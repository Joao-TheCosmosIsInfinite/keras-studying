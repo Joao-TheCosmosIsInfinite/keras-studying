{
  "cells": [
    {
      "cell_type": "markdown",
      "metadata": {
        "id": "view-in-github",
        "colab_type": "text"
      },
      "source": [
        "<a href=\"https://colab.research.google.com/github/Joao-TheCosmosIsInfinite/keras-studying/blob/main/Notebook_Keras_primeiros_passos.ipynb\" target=\"_parent\"><img src=\"https://colab.research.google.com/assets/colab-badge.svg\" alt=\"Open In Colab\"/></a>"
      ]
    },
    {
      "cell_type": "markdown",
      "metadata": {
        "id": "MswYJgE70_Tz"
      },
      "source": [
        "# Keras: Redes Neurais"
      ]
    },
    {
      "cell_type": "markdown",
      "metadata": {
        "id": "K8P8HnKQmgz4"
      },
      "source": [
        "O Iris dataset é um conjunto de dados bem conhecido na comunidade academica, esse conjunto de dados consiste em 50 amostras de cada uma das três espécies (150 amostras, no total) de Iris: *Iris setosa, Iris virginica e Iris versicolor*.\n",
        "\n",
        "Quatro variáveis foram medidas em cada amostra: o comprimento (*length*) e a largura (*width*) das sépalas (*Sepal*) e pétalas (*Petal*), em centímetros. Com base na combinação dessas quatro características, é possível distinguir as espécies umas das outras.\n",
        "\n",
        "![](https://kedro.readthedocs.io/en/0.17.5/_images/iris_measurements.png)\n",
        "\n",
        "Abaixo a representação dos três tipos de flores Iris.\n",
        "\n",
        "![](https://www.embedded-robotics.com/wp-content/uploads/2022/01/Iris-Dataset-Classification.png)"
      ]
    },
    {
      "cell_type": "markdown",
      "metadata": {
        "id": "VHD9R5Dq4VVS"
      },
      "source": [
        "Iremos aprender como funciona um modelo neural e também construí-lo através da [**biblioteca Keras**](https://keras.io/)"
      ]
    },
    {
      "cell_type": "code",
      "execution_count": 1,
      "metadata": {
        "id": "fjSbRe9Y6Yjw"
      },
      "outputs": [],
      "source": [
        "from tensorflow import keras"
      ]
    },
    {
      "cell_type": "markdown",
      "metadata": {
        "id": "muv6prCFQxIw"
      },
      "source": [
        "## Modelo - Perceptron\n",
        "\n",
        "O [`keras.Sequential`](https://keras.io/api/models/sequential/) permite a criação de uma rede neural unindo camadas.\n",
        "\n",
        "A camada [`Dense`](https://keras.io/api/layers/core_layers/dense/) é uma camada definida no Keras que promove os cálculos e transformações utilizadas na criação de um modelo.\n",
        "\n",
        "Precisamos definir nela quantos neurônios ela conterá através do parâmetro `units` e podemos também definir a quantidade de entradas/características que os dados irão conter, para a implementação, vamos começar com dois."
      ]
    },
    {
      "cell_type": "code",
      "execution_count": 2,
      "metadata": {
        "id": "MB4Jwmvd6ZzQ",
        "colab": {
          "base_uri": "https://localhost:8080/"
        },
        "outputId": "e72369b9-849a-411b-95da-ba1c9ad53495"
      },
      "outputs": [
        {
          "output_type": "stream",
          "name": "stderr",
          "text": [
            "/usr/local/lib/python3.10/dist-packages/keras/src/layers/core/dense.py:87: UserWarning: Do not pass an `input_shape`/`input_dim` argument to a layer. When using Sequential models, prefer using an `Input(shape)` object as the first layer in the model instead.\n",
            "  super().__init__(activity_regularizer=activity_regularizer, **kwargs)\n"
          ]
        }
      ],
      "source": [
        "modelo = keras.Sequential(\n",
        "    [keras.layers.Dense(units=1, input_shape=[2], name='neuronio')]\n",
        ")"
      ]
    },
    {
      "cell_type": "markdown",
      "metadata": {
        "id": "Gl9P-SLtUIoW"
      },
      "source": [
        "**Explicação:**\n",
        "\n",
        "1. O `Sequential` cria um modelo muito simples (um dos mais simples no Keras) de redes neurais. Desse modo, é construida somente uma única pilha de camadas sequencialmente conectadas.\n",
        "2. A camada [`Dense`](https://www.tensorflow.org/api_docs/python/tf/keras/layers/Dense) é criada com 1 neurônio, representando o perceptron. A camada é responsável por cada peso contido nela bem como a inputação do vetor de viéses.\n",
        "  * `units`: informa a quantidade de neurônios que a camada Dense terá;\n",
        "  * `input_shape`: define a quantidade de entradas no modelo neural; e\n",
        "  * `name`: permite nomearmos essa camada."
      ]
    },
    {
      "cell_type": "markdown",
      "metadata": {
        "id": "0HhGNRyt8Okr"
      },
      "source": [
        "### Utilidades do modelo"
      ]
    },
    {
      "cell_type": "markdown",
      "metadata": {
        "id": "DhjM6r6KFFY-"
      },
      "source": [
        "#### Estrutura\n",
        "Podemos entender a esturtura do modelo (perceptron) criado através do método [`summary`](https://keras.io/api/models/model/#:~:text=%5Bsource%5D-,summary%20method,-Model.summary) e a função [`utils.plot_model`](https://www.tensorflow.org/api_docs/python/tf/keras/utils/plot_model) da biblioteca keras."
      ]
    },
    {
      "cell_type": "code",
      "execution_count": 3,
      "metadata": {
        "id": "8bx_lmqq6HEx",
        "colab": {
          "base_uri": "https://localhost:8080/",
          "height": 170
        },
        "outputId": "6b362aec-c692-48b2-e8cd-0301974c4d46"
      },
      "outputs": [
        {
          "output_type": "display_data",
          "data": {
            "text/plain": [
              "\u001b[1mModel: \"sequential\"\u001b[0m\n"
            ],
            "text/html": [
              "<pre style=\"white-space:pre;overflow-x:auto;line-height:normal;font-family:Menlo,'DejaVu Sans Mono',consolas,'Courier New',monospace\"><span style=\"font-weight: bold\">Model: \"sequential\"</span>\n",
              "</pre>\n"
            ]
          },
          "metadata": {}
        },
        {
          "output_type": "display_data",
          "data": {
            "text/plain": [
              "┏━━━━━━━━━━━━━━━━━━━━━━━━━━━━━━━━━━━━━━┳━━━━━━━━━━━━━━━━━━━━━━━━━━━━━┳━━━━━━━━━━━━━━━━━┓\n",
              "┃\u001b[1m \u001b[0m\u001b[1mLayer (type)                        \u001b[0m\u001b[1m \u001b[0m┃\u001b[1m \u001b[0m\u001b[1mOutput Shape               \u001b[0m\u001b[1m \u001b[0m┃\u001b[1m \u001b[0m\u001b[1m        Param #\u001b[0m\u001b[1m \u001b[0m┃\n",
              "┡━━━━━━━━━━━━━━━━━━━━━━━━━━━━━━━━━━━━━━╇━━━━━━━━━━━━━━━━━━━━━━━━━━━━━╇━━━━━━━━━━━━━━━━━┩\n",
              "│ neuronio (\u001b[38;5;33mDense\u001b[0m)                     │ (\u001b[38;5;45mNone\u001b[0m, \u001b[38;5;34m1\u001b[0m)                   │               \u001b[38;5;34m3\u001b[0m │\n",
              "└──────────────────────────────────────┴─────────────────────────────┴─────────────────┘\n"
            ],
            "text/html": [
              "<pre style=\"white-space:pre;overflow-x:auto;line-height:normal;font-family:Menlo,'DejaVu Sans Mono',consolas,'Courier New',monospace\">┏━━━━━━━━━━━━━━━━━━━━━━━━━━━━━━━━━━━━━━┳━━━━━━━━━━━━━━━━━━━━━━━━━━━━━┳━━━━━━━━━━━━━━━━━┓\n",
              "┃<span style=\"font-weight: bold\"> Layer (type)                         </span>┃<span style=\"font-weight: bold\"> Output Shape                </span>┃<span style=\"font-weight: bold\">         Param # </span>┃\n",
              "┡━━━━━━━━━━━━━━━━━━━━━━━━━━━━━━━━━━━━━━╇━━━━━━━━━━━━━━━━━━━━━━━━━━━━━╇━━━━━━━━━━━━━━━━━┩\n",
              "│ neuronio (<span style=\"color: #0087ff; text-decoration-color: #0087ff\">Dense</span>)                     │ (<span style=\"color: #00d7ff; text-decoration-color: #00d7ff\">None</span>, <span style=\"color: #00af00; text-decoration-color: #00af00\">1</span>)                   │               <span style=\"color: #00af00; text-decoration-color: #00af00\">3</span> │\n",
              "└──────────────────────────────────────┴─────────────────────────────┴─────────────────┘\n",
              "</pre>\n"
            ]
          },
          "metadata": {}
        },
        {
          "output_type": "display_data",
          "data": {
            "text/plain": [
              "\u001b[1m Total params: \u001b[0m\u001b[38;5;34m3\u001b[0m (12.00 B)\n"
            ],
            "text/html": [
              "<pre style=\"white-space:pre;overflow-x:auto;line-height:normal;font-family:Menlo,'DejaVu Sans Mono',consolas,'Courier New',monospace\"><span style=\"font-weight: bold\"> Total params: </span><span style=\"color: #00af00; text-decoration-color: #00af00\">3</span> (12.00 B)\n",
              "</pre>\n"
            ]
          },
          "metadata": {}
        },
        {
          "output_type": "display_data",
          "data": {
            "text/plain": [
              "\u001b[1m Trainable params: \u001b[0m\u001b[38;5;34m3\u001b[0m (12.00 B)\n"
            ],
            "text/html": [
              "<pre style=\"white-space:pre;overflow-x:auto;line-height:normal;font-family:Menlo,'DejaVu Sans Mono',consolas,'Courier New',monospace\"><span style=\"font-weight: bold\"> Trainable params: </span><span style=\"color: #00af00; text-decoration-color: #00af00\">3</span> (12.00 B)\n",
              "</pre>\n"
            ]
          },
          "metadata": {}
        },
        {
          "output_type": "display_data",
          "data": {
            "text/plain": [
              "\u001b[1m Non-trainable params: \u001b[0m\u001b[38;5;34m0\u001b[0m (0.00 B)\n"
            ],
            "text/html": [
              "<pre style=\"white-space:pre;overflow-x:auto;line-height:normal;font-family:Menlo,'DejaVu Sans Mono',consolas,'Courier New',monospace\"><span style=\"font-weight: bold\"> Non-trainable params: </span><span style=\"color: #00af00; text-decoration-color: #00af00\">0</span> (0.00 B)\n",
              "</pre>\n"
            ]
          },
          "metadata": {}
        }
      ],
      "source": [
        "modelo.summary()"
      ]
    },
    {
      "cell_type": "markdown",
      "metadata": {
        "id": "qi_3hgcSU3g2"
      },
      "source": [
        "A única camada que temos é o próprio neurônio que criamos. O parâmetro dado nela é definido como 3 pois é considerado **a soma da quantidade de pesos mais a quantidade de viéses**.\n",
        "\n",
        "Os pesos são calculados multiplicando a quantidade de neurônios pela quantidade de entradas, desse modo, como definimos 2 entradas e 1 neurônio, teremos `2 * 1 = 2 pesos`, adicionadno o viés que é igual a quantidade de neurônios temos `2 + 1 = 3 parâmetros`."
      ]
    },
    {
      "cell_type": "code",
      "execution_count": 4,
      "metadata": {
        "id": "n7tK6ytX6I5h",
        "colab": {
          "base_uri": "https://localhost:8080/",
          "height": 273
        },
        "outputId": "86f79f3a-60c7-43a1-a969-29277dc8a79c"
      },
      "outputs": [
        {
          "output_type": "execute_result",
          "data": {
            "image/png": "[encoded data removed]",
            "text/plain": [
              "<IPython.core.display.Image object>"
            ]
          },
          "metadata": {},
          "execution_count": 4
        }
      ],
      "source": [
        "keras.utils.plot_model(modelo, show_shapes=True)"
      ]
    },
    {
      "cell_type": "markdown",
      "metadata": {
        "id": "evTYaJuaK0ik"
      },
      "source": [
        "#### Pesos e viéses\n",
        "\n",
        "Para identificar os pesos e viés que o modelo vai inicializar, podemos utilizar o método [`get_weights()`](https://keras.io/api/layers/base_layer/#:~:text=%5Bsource%5D-,get_weights%20method,-Layer.get_weights) e o método [`layers`](https://keras.io/api/layers/base_layer/).\n",
        "\n",
        "* `layers`: retorna uma lista contendo as camadas do modelo criado;\n",
        "* `get_weights`: coleta os pesos e viéses da camada enviada como objeto e os retorna como lista."
      ]
    },
    {
      "cell_type": "code",
      "execution_count": 5,
      "metadata": {
        "id": "TVrI3SpU6OBh",
        "colab": {
          "base_uri": "https://localhost:8080/"
        },
        "outputId": "fa8edcb4-8b13-4ece-8485-cca0ba34f79b"
      },
      "outputs": [
        {
          "output_type": "execute_result",
          "data": {
            "text/plain": [
              "[<Dense name=neuronio, built=True>]"
            ]
          },
          "metadata": {},
          "execution_count": 5
        }
      ],
      "source": [
        "modelo.layers"
      ]
    },
    {
      "cell_type": "code",
      "execution_count": 6,
      "metadata": {
        "id": "cRJ_nP6G6N8A",
        "colab": {
          "base_uri": "https://localhost:8080/"
        },
        "outputId": "0a4302fb-c675-4f95-c21e-f7a714c39b64"
      },
      "outputs": [
        {
          "output_type": "execute_result",
          "data": {
            "text/plain": [
              "[array([[-1.2950789 ],\n",
              "        [-0.85217524]], dtype=float32),\n",
              " array([0.], dtype=float32)]"
            ]
          },
          "metadata": {},
          "execution_count": 6
        }
      ],
      "source": [
        "modelo.layers[0].get_weights()"
      ]
    },
    {
      "cell_type": "code",
      "execution_count": 7,
      "metadata": {
        "id": "oA_lncsr6N1q",
        "colab": {
          "base_uri": "https://localhost:8080/"
        },
        "outputId": "d83dd3f7-f372-4195-dda0-caf5b2343b08"
      },
      "outputs": [
        {
          "output_type": "stream",
          "name": "stdout",
          "text": [
            "Pesos: (2, 1)\n",
            "[[-1.2950789 ]\n",
            " [-0.85217524]]\n"
          ]
        }
      ],
      "source": [
        "pesos, bias = modelo.layers[0].get_weights()\n",
        "print(f\"Pesos: {pesos.shape}\\n{pesos}\")"
      ]
    },
    {
      "cell_type": "code",
      "execution_count": 8,
      "metadata": {
        "id": "61nym5rs6Nvp",
        "colab": {
          "base_uri": "https://localhost:8080/"
        },
        "outputId": "e51d8c1d-4d7f-4843-8349-f930b2c9acc6"
      },
      "outputs": [
        {
          "output_type": "stream",
          "name": "stdout",
          "text": [
            "Bias: (1,)\n",
            "[0.]\n"
          ]
        }
      ],
      "source": [
        "print(f\"Bias: {bias.shape}\\n{bias}\")"
      ]
    },
    {
      "cell_type": "markdown",
      "metadata": {
        "id": "wt2K9dTAJO3N"
      },
      "source": [
        "##### Incializando"
      ]
    },
    {
      "cell_type": "markdown",
      "metadata": {
        "id": "XLELKvFrXhzv"
      },
      "source": [
        "É possivel definir os pesos e viéses antes de criar o modelo, para isso utilizamos dois paramentros:\n",
        "\n",
        "* `kernel_initializer`: inicializa a matriz de pesos do modelo; e\n",
        "* `bias_initializer`: inicializa os valores de viéses.\n",
        "\n",
        "Para definir os pesos iniciais, utilizamos dois métodos de [`keras.initializers`](https://keras.io/api/layers/initializers/):\n",
        "\n",
        "* `keras.initializers.RandomNormal()`, para os pesos; e\n",
        "* `keras.initializers.Ones()`, para o bias."
      ]
    },
    {
      "cell_type": "code",
      "execution_count": 9,
      "metadata": {
        "id": "Jeq8uUYq60_d",
        "colab": {
          "base_uri": "https://localhost:8080/"
        },
        "outputId": "0807a76c-23bd-4412-dcfb-9b9f56f98a65"
      },
      "outputs": [
        {
          "output_type": "execute_result",
          "data": {
            "text/plain": [
              "[array([[-0.04264529],\n",
              "        [-0.05864748]], dtype=float32),\n",
              " array([1.], dtype=float32)]"
            ]
          },
          "metadata": {},
          "execution_count": 9
        }
      ],
      "source": [
        "modelo = keras.Sequential(\n",
        "    [keras.layers.Dense(units=1, input_shape=[2], name='neuronio',\n",
        "                        kernel_initializer = keras.initializers.RandomNormal(),\n",
        "                        bias_initializer=keras.initializers.Ones())]\n",
        ")\n",
        "\n",
        "modelo.layers[0].get_weights()"
      ]
    },
    {
      "cell_type": "markdown",
      "metadata": {
        "id": "1YQJCdoULkda"
      },
      "source": [
        "## Dados"
      ]
    },
    {
      "cell_type": "markdown",
      "metadata": {
        "id": "7k8Ty0H9Tg4D"
      },
      "source": [
        "O Iris dataset é um conjunto de dados bem conhecido na comunidade academica, esse conjunto de dados consiste em 50 amostras de cada uma das três espécies (150 amostras, no total) de Iris: *Iris setosa, Iris virginica e Iris versicolor*.\n",
        "\n",
        "Quatro variáveis foram medidas em cada amostra: o comprimento (*length*) e a largura (*width*) das sépalas (*Sepal*) e pétalas (*Petal*), em centímetros. Com base na combinação dessas quatro características, é possível distinguir as espécies umas das outras.\n",
        "\n",
        "![](https://kedro.readthedocs.io/en/0.17.5/_images/iris_measurements.png)\n",
        "\n",
        "Abaixo a representação dos três tipos de flores Iris.\n",
        "\n",
        "![](https://www.embedded-robotics.com/wp-content/uploads/2022/01/Iris-Dataset-Classification.png)"
      ]
    },
    {
      "cell_type": "markdown",
      "metadata": {
        "id": "zxWCoN5ssqmU"
      },
      "source": [
        "### Importando os dados"
      ]
    },
    {
      "cell_type": "markdown",
      "metadata": {
        "id": "X9mKiELXpCNw"
      },
      "source": [
        "É possivel realizar a coleta desse dataset através do método [`datasets`](https://scikit-learn.org/stable/modules/generated/sklearn.datasets.load_iris.html) da biblioteca `sklearn`."
      ]
    },
    {
      "cell_type": "code",
      "execution_count": 10,
      "metadata": {
        "id": "KzOberRC5nrB",
        "colab": {
          "base_uri": "https://localhost:8080/"
        },
        "outputId": "26dd5f3a-39e9-462a-f6a2-d454a0d3ba72"
      },
      "outputs": [
        {
          "output_type": "execute_result",
          "data": {
            "text/plain": [
              "array([[4.9, 3. , 1.4, 0.2],\n",
              "       [4.7, 3.2, 1.3, 0.2],\n",
              "       [4.6, 3.1, 1.5, 0.2],\n",
              "       [5. , 3.6, 1.4, 0.2],\n",
              "       [5.4, 3.9, 1.7, 0.4],\n",
              "       [4.6, 3.4, 1.4, 0.3],\n",
              "       [5. , 3.4, 1.5, 0.2],\n",
              "       [4.4, 2.9, 1.4, 0.2],\n",
              "       [4.9, 3.1, 1.5, 0.1]])"
            ]
          },
          "metadata": {},
          "execution_count": 10
        }
      ],
      "source": [
        "from sklearn import datasets\n",
        "\n",
        "iris = datasets.load_iris(return_X_y = True)\n",
        "x = iris[0]\n",
        "y = iris[1]\n",
        "\n",
        "x[1:10]"
      ]
    },
    {
      "cell_type": "code",
      "execution_count": 11,
      "metadata": {
        "id": "jv49nxxE5nhg",
        "colab": {
          "base_uri": "https://localhost:8080/"
        },
        "outputId": "50a8dcd7-b32e-4c89-b356-50eb40a38a9a"
      },
      "outputs": [
        {
          "output_type": "execute_result",
          "data": {
            "text/plain": [
              "['sepal length (cm)',\n",
              " 'sepal width (cm)',\n",
              " 'petal length (cm)',\n",
              " 'petal width (cm)']"
            ]
          },
          "metadata": {},
          "execution_count": 11
        }
      ],
      "source": [
        "datasets.load_iris()['feature_names']"
      ]
    },
    {
      "cell_type": "code",
      "execution_count": 12,
      "metadata": {
        "id": "6P0T201o5nZ4",
        "colab": {
          "base_uri": "https://localhost:8080/"
        },
        "outputId": "9e9f72c0-ef6a-43f6-d52f-f0517a946ab8"
      },
      "outputs": [
        {
          "output_type": "execute_result",
          "data": {
            "text/plain": [
              "array([0, 0, 0, 0, 0, 0, 0, 0, 0, 0, 0, 0, 0, 0, 0, 0, 0, 0, 0])"
            ]
          },
          "metadata": {},
          "execution_count": 12
        }
      ],
      "source": [
        "y[1:20]"
      ]
    },
    {
      "cell_type": "code",
      "execution_count": 13,
      "metadata": {
        "id": "-cCXUO3v5nTR",
        "colab": {
          "base_uri": "https://localhost:8080/"
        },
        "outputId": "3ad834c3-ccf6-4dc4-dc2f-9d77fb3c0860"
      },
      "outputs": [
        {
          "output_type": "execute_result",
          "data": {
            "text/plain": [
              "array(['setosa', 'versicolor', 'virginica'], dtype='<U10')"
            ]
          },
          "metadata": {},
          "execution_count": 13
        }
      ],
      "source": [
        "datasets.load_iris()['target_names']"
      ]
    },
    {
      "cell_type": "code",
      "execution_count": 14,
      "metadata": {
        "id": "wAkcQhBs60_e",
        "colab": {
          "base_uri": "https://localhost:8080/",
          "height": 484
        },
        "outputId": "07c70739-b1bf-40f2-8d27-9efdb20203fd"
      },
      "outputs": [
        {
          "output_type": "display_data",
          "data": {
            "text/plain": [
              "<Figure size 640x480 with 1 Axes>"
            ],
            "image/png": "[encoded data removed]"
          },
          "metadata": {}
        }
      ],
      "source": [
        "import matplotlib.pyplot as plt\n",
        "import seaborn as sns\n",
        "\n",
        "sns.scatterplot(x=x[:,2],y=x[:,3],hue=y,palette='viridis')\n",
        "plt.xlabel('comprimento (cm)',fontsize =16)\n",
        "plt.ylabel('largura (cm)', fontsize=16)\n",
        "plt.title('Distribuição pétalas', fontsize = 18)\n",
        "plt.show()"
      ]
    },
    {
      "cell_type": "code",
      "execution_count": 15,
      "metadata": {
        "id": "KNp6xpZn60_e",
        "colab": {
          "base_uri": "https://localhost:8080/",
          "height": 484
        },
        "outputId": "8765cbe4-c718-43b1-b4b7-8eb2ec1e3a19"
      },
      "outputs": [
        {
          "output_type": "display_data",
          "data": {
            "text/plain": [
              "<Figure size 640x480 with 1 Axes>"
            ],
            "image/png": "[encoded data removed]"
          },
          "metadata": {}
        }
      ],
      "source": [
        "sns.scatterplot(x = x[:,0], y = x[:,1], hue = y, palette = \"viridis\")\n",
        "plt.xlabel('comprimeto (cm)', fontsize = 16)\n",
        "plt.ylabel('largura (cm)', fontsize = 16)\n",
        "plt.title('Distribuição sépalas', fontsize = 18)\n",
        "plt.show()"
      ]
    },
    {
      "cell_type": "markdown",
      "metadata": {
        "id": "lUbXWgdpmcVr"
      },
      "source": [
        "### Tratamento"
      ]
    },
    {
      "cell_type": "markdown",
      "metadata": {
        "id": "zEcmmwllb7Fa"
      },
      "source": [
        "#### Categorização"
      ]
    },
    {
      "cell_type": "code",
      "execution_count": 16,
      "metadata": {
        "id": "8lxrugmF5dI6",
        "colab": {
          "base_uri": "https://localhost:8080/"
        },
        "outputId": "4e3a67a7-f895-4c1a-d3d6-7fa4e0a221bd"
      },
      "outputs": [
        {
          "output_type": "execute_result",
          "data": {
            "text/plain": [
              "(150,)"
            ]
          },
          "metadata": {},
          "execution_count": 16
        }
      ],
      "source": [
        "y.shape"
      ]
    },
    {
      "cell_type": "code",
      "execution_count": 17,
      "metadata": {
        "id": "8iU5wYRS5dDK",
        "colab": {
          "base_uri": "https://localhost:8080/"
        },
        "outputId": "935d8db8-9892-4e7a-b1b7-e5b6ef061327"
      },
      "outputs": [
        {
          "output_type": "execute_result",
          "data": {
            "text/plain": [
              "(150, 3)"
            ]
          },
          "metadata": {},
          "execution_count": 17
        }
      ],
      "source": [
        "y = keras.utils.to_categorical(y)\n",
        "y.shape"
      ]
    },
    {
      "cell_type": "code",
      "execution_count": 18,
      "metadata": {
        "id": "Ldfp629B5c8x",
        "colab": {
          "base_uri": "https://localhost:8080/"
        },
        "outputId": "43276b1f-354a-4756-8f61-751de2a8947a"
      },
      "outputs": [
        {
          "output_type": "execute_result",
          "data": {
            "text/plain": [
              "array([[1., 0., 0.],\n",
              "       [1., 0., 0.],\n",
              "       [1., 0., 0.],\n",
              "       [1., 0., 0.],\n",
              "       [1., 0., 0.],\n",
              "       [1., 0., 0.],\n",
              "       [1., 0., 0.],\n",
              "       [1., 0., 0.],\n",
              "       [1., 0., 0.],\n",
              "       [1., 0., 0.]])"
            ]
          },
          "metadata": {},
          "execution_count": 18
        }
      ],
      "source": [
        "y[:10]"
      ]
    },
    {
      "cell_type": "markdown",
      "metadata": {
        "id": "HvXqF0mjcA6T"
      },
      "source": [
        "#### Normalização\n",
        "\n",
        "Os dados serão normalizados entre [0, 1], para isso utilizamos o método [`MinMaxScaler`](https://scikit-learn.org/stable/modules/generated/sklearn.preprocessing.MinMaxScaler)"
      ]
    },
    {
      "cell_type": "code",
      "execution_count": 19,
      "metadata": {
        "id": "Mr8-P_FQ5baJ"
      },
      "outputs": [],
      "source": [
        "from sklearn.preprocessing import MinMaxScaler\n",
        "\n",
        "scaler = MinMaxScaler()\n",
        "x = scaler.fit_transform(x)"
      ]
    },
    {
      "cell_type": "markdown",
      "metadata": {
        "id": "4gFxAbq-B0fI"
      },
      "source": [
        "#### Separação de conjunto\n",
        "\n",
        "A separação em conjuntos de treino e teste garantem um melhor processo de criação do modelo. Esses conjuntos são definidos a partir do conjunto total de dados, o qual separameos por proporções:\n",
        "\n",
        "* **80%** - Treino\n",
        "* **20%** - Teste"
      ]
    },
    {
      "cell_type": "code",
      "execution_count": 20,
      "metadata": {
        "id": "b2Vy9GBW5U_5"
      },
      "outputs": [],
      "source": [
        "from sklearn.model_selection import train_test_split\n",
        "\n",
        "x_treino, x_teste, y_treino, y_teste = train_test_split(x, y, test_size=0.2, stratify=y, random_state=42)"
      ]
    },
    {
      "cell_type": "code",
      "execution_count": 21,
      "metadata": {
        "id": "5LYxtRp75U4x",
        "colab": {
          "base_uri": "https://localhost:8080/"
        },
        "outputId": "753bb4df-6452-4ea2-b3be-746a38d12522"
      },
      "outputs": [
        {
          "output_type": "execute_result",
          "data": {
            "text/plain": [
              "(120, 4)"
            ]
          },
          "metadata": {},
          "execution_count": 21
        }
      ],
      "source": [
        "x_treino.shape"
      ]
    },
    {
      "cell_type": "code",
      "execution_count": 22,
      "metadata": {
        "id": "tP-_Mck_5Uxh",
        "colab": {
          "base_uri": "https://localhost:8080/"
        },
        "outputId": "dad75606-db7a-423e-cc1d-28518476c0e2"
      },
      "outputs": [
        {
          "output_type": "execute_result",
          "data": {
            "text/plain": [
              "(30, 4)"
            ]
          },
          "metadata": {},
          "execution_count": 22
        }
      ],
      "source": [
        "x_teste.shape"
      ]
    },
    {
      "cell_type": "markdown",
      "metadata": {
        "id": "BMS-65LusijP"
      },
      "source": [
        "## Modelo - MLP"
      ]
    },
    {
      "cell_type": "markdown",
      "metadata": {
        "id": "ybG-0Kju1KiI"
      },
      "source": [
        "### Criação do modelo\n",
        "\n",
        "Fazemos um modelo MLP definido por 1 camada de entrada, 1 camada oculta e 1 camada de saída."
      ]
    },
    {
      "cell_type": "code",
      "execution_count": 23,
      "metadata": {
        "id": "JVXo39JO4_OZ",
        "colab": {
          "base_uri": "https://localhost:8080/"
        },
        "outputId": "c360fb35-3717-4815-f780-c8c106671bba"
      },
      "outputs": [
        {
          "output_type": "stream",
          "name": "stderr",
          "text": [
            "/usr/local/lib/python3.10/dist-packages/keras/src/layers/core/input_layer.py:26: UserWarning: Argument `input_shape` is deprecated. Use `shape` instead.\n",
            "  warnings.warn(\n"
          ]
        }
      ],
      "source": [
        "modelo = keras.Sequential([\n",
        "    keras.layers.InputLayer(input_shape=[4,], name='Entrada'),\n",
        "    keras.layers.Dense(512, activation = 'relu', name = 'oculta', kernel_initializer=keras.initializers.RandomNormal(seed=142)),\n",
        "    keras.layers.Dense(3, activation='softmax', name='saida')\n",
        "])"
      ]
    },
    {
      "cell_type": "code",
      "execution_count": 24,
      "metadata": {
        "id": "8lN5nlK74_D6",
        "colab": {
          "base_uri": "https://localhost:8080/",
          "height": 204
        },
        "outputId": "352828d2-ad3c-4e7c-cf23-78c93b7636b9"
      },
      "outputs": [
        {
          "output_type": "display_data",
          "data": {
            "text/plain": [
              "\u001b[1mModel: \"sequential_2\"\u001b[0m\n"
            ],
            "text/html": [
              "<pre style=\"white-space:pre;overflow-x:auto;line-height:normal;font-family:Menlo,'DejaVu Sans Mono',consolas,'Courier New',monospace\"><span style=\"font-weight: bold\">Model: \"sequential_2\"</span>\n",
              "</pre>\n"
            ]
          },
          "metadata": {}
        },
        {
          "output_type": "display_data",
          "data": {
            "text/plain": [
              "┏━━━━━━━━━━━━━━━━━━━━━━━━━━━━━━━━━━━━━━┳━━━━━━━━━━━━━━━━━━━━━━━━━━━━━┳━━━━━━━━━━━━━━━━━┓\n",
              "┃\u001b[1m \u001b[0m\u001b[1mLayer (type)                        \u001b[0m\u001b[1m \u001b[0m┃\u001b[1m \u001b[0m\u001b[1mOutput Shape               \u001b[0m\u001b[1m \u001b[0m┃\u001b[1m \u001b[0m\u001b[1m        Param #\u001b[0m\u001b[1m \u001b[0m┃\n",
              "┡━━━━━━━━━━━━━━━━━━━━━━━━━━━━━━━━━━━━━━╇━━━━━━━━━━━━━━━━━━━━━━━━━━━━━╇━━━━━━━━━━━━━━━━━┩\n",
              "│ oculta (\u001b[38;5;33mDense\u001b[0m)                       │ (\u001b[38;5;45mNone\u001b[0m, \u001b[38;5;34m512\u001b[0m)                 │           \u001b[38;5;34m2,560\u001b[0m │\n",
              "├──────────────────────────────────────┼─────────────────────────────┼─────────────────┤\n",
              "│ saida (\u001b[38;5;33mDense\u001b[0m)                        │ (\u001b[38;5;45mNone\u001b[0m, \u001b[38;5;34m3\u001b[0m)                   │           \u001b[38;5;34m1,539\u001b[0m │\n",
              "└──────────────────────────────────────┴─────────────────────────────┴─────────────────┘\n"
            ],
            "text/html": [
              "<pre style=\"white-space:pre;overflow-x:auto;line-height:normal;font-family:Menlo,'DejaVu Sans Mono',consolas,'Courier New',monospace\">┏━━━━━━━━━━━━━━━━━━━━━━━━━━━━━━━━━━━━━━┳━━━━━━━━━━━━━━━━━━━━━━━━━━━━━┳━━━━━━━━━━━━━━━━━┓\n",
              "┃<span style=\"font-weight: bold\"> Layer (type)                         </span>┃<span style=\"font-weight: bold\"> Output Shape                </span>┃<span style=\"font-weight: bold\">         Param # </span>┃\n",
              "┡━━━━━━━━━━━━━━━━━━━━━━━━━━━━━━━━━━━━━━╇━━━━━━━━━━━━━━━━━━━━━━━━━━━━━╇━━━━━━━━━━━━━━━━━┩\n",
              "│ oculta (<span style=\"color: #0087ff; text-decoration-color: #0087ff\">Dense</span>)                       │ (<span style=\"color: #00d7ff; text-decoration-color: #00d7ff\">None</span>, <span style=\"color: #00af00; text-decoration-color: #00af00\">512</span>)                 │           <span style=\"color: #00af00; text-decoration-color: #00af00\">2,560</span> │\n",
              "├──────────────────────────────────────┼─────────────────────────────┼─────────────────┤\n",
              "│ saida (<span style=\"color: #0087ff; text-decoration-color: #0087ff\">Dense</span>)                        │ (<span style=\"color: #00d7ff; text-decoration-color: #00d7ff\">None</span>, <span style=\"color: #00af00; text-decoration-color: #00af00\">3</span>)                   │           <span style=\"color: #00af00; text-decoration-color: #00af00\">1,539</span> │\n",
              "└──────────────────────────────────────┴─────────────────────────────┴─────────────────┘\n",
              "</pre>\n"
            ]
          },
          "metadata": {}
        },
        {
          "output_type": "display_data",
          "data": {
            "text/plain": [
              "\u001b[1m Total params: \u001b[0m\u001b[38;5;34m4,099\u001b[0m (16.01 KB)\n"
            ],
            "text/html": [
              "<pre style=\"white-space:pre;overflow-x:auto;line-height:normal;font-family:Menlo,'DejaVu Sans Mono',consolas,'Courier New',monospace\"><span style=\"font-weight: bold\"> Total params: </span><span style=\"color: #00af00; text-decoration-color: #00af00\">4,099</span> (16.01 KB)\n",
              "</pre>\n"
            ]
          },
          "metadata": {}
        },
        {
          "output_type": "display_data",
          "data": {
            "text/plain": [
              "\u001b[1m Trainable params: \u001b[0m\u001b[38;5;34m4,099\u001b[0m (16.01 KB)\n"
            ],
            "text/html": [
              "<pre style=\"white-space:pre;overflow-x:auto;line-height:normal;font-family:Menlo,'DejaVu Sans Mono',consolas,'Courier New',monospace\"><span style=\"font-weight: bold\"> Trainable params: </span><span style=\"color: #00af00; text-decoration-color: #00af00\">4,099</span> (16.01 KB)\n",
              "</pre>\n"
            ]
          },
          "metadata": {}
        },
        {
          "output_type": "display_data",
          "data": {
            "text/plain": [
              "\u001b[1m Non-trainable params: \u001b[0m\u001b[38;5;34m0\u001b[0m (0.00 B)\n"
            ],
            "text/html": [
              "<pre style=\"white-space:pre;overflow-x:auto;line-height:normal;font-family:Menlo,'DejaVu Sans Mono',consolas,'Courier New',monospace\"><span style=\"font-weight: bold\"> Non-trainable params: </span><span style=\"color: #00af00; text-decoration-color: #00af00\">0</span> (0.00 B)\n",
              "</pre>\n"
            ]
          },
          "metadata": {}
        }
      ],
      "source": [
        "modelo.summary()"
      ]
    },
    {
      "cell_type": "markdown",
      "metadata": {
        "id": "Qj3CF2Au2KyD"
      },
      "source": [
        "### Treinamento"
      ]
    },
    {
      "cell_type": "markdown",
      "metadata": {
        "id": "08Vvd91Rcgfs"
      },
      "source": [
        "#### Compilando o modelo\n",
        "\n",
        "Compilar o modelo se dá pelo método [`compile`](https://keras.io/api/models/model_training_apis/). Nessa etapa devemos especificar a função de perda e o otimizador a ser usado. Uma opção também é especificar as métricas a serem calculadas durante o treinamento e avaliação do modelo."
      ]
    },
    {
      "cell_type": "code",
      "execution_count": 29,
      "metadata": {
        "id": "nHNU9fOA42y6"
      },
      "outputs": [],
      "source": [
        "modelo.compile(loss = 'categorical_crossentropy',\n",
        "               optimizer = 'rmsprop',\n",
        "               metrics = ['categorical_accuracy'])"
      ]
    },
    {
      "cell_type": "markdown",
      "metadata": {
        "id": "4WF6jy7Pmfzf"
      },
      "source": [
        "**Explicação:**\n",
        "\n",
        "1. A perda escolhida foi a `'categorical_crossentropy'` pois os resultads em y são valores categóricos.\n",
        "2. O uso do otimizador `'rmsprop'` indica que iremos treinar o modelo baseado em gradiente descendente, que calcula a média móvel de gradientes quadrados para normalizar o gradiente (processo de retropropagação será aplicado ao realizar o treinamento).\n",
        "3. Por esse modelo ser um classificador simples, é interessante calcular o valor da acurácia durante o treino e validação."
      ]
    },
    {
      "cell_type": "markdown",
      "metadata": {
        "id": "2_iPYpyZcjLn"
      },
      "source": [
        "#### Treino\n",
        "\n",
        "O treinamento é feito com o método `fit`, sendo especificado as entredas e saídas esperadas de treino, épocas e também os dados de validação."
      ]
    },
    {
      "cell_type": "markdown",
      "metadata": {
        "id": "rEsIX9i-mtIe"
      },
      "source": [
        "**Explicação:**\n",
        "\n",
        "1. Para treinamento é preciso passar os dados de entradas e saídas do conjunto de treinamento.\n",
        "2. Nesse caso o número de épocas também é essencial pois o padrão da biblioteca é 1 época, o que não é tão bom para o aprendizado.\n",
        "3. Passamos também a porcentagem do conjunto de validação para serem considerados do conjunto de treino - 30% do conjunto de treino"
      ]
    },
    {
      "cell_type": "code",
      "execution_count": 30,
      "metadata": {
        "id": "evWZPYWJ4xya",
        "colab": {
          "base_uri": "https://localhost:8080/"
        },
        "outputId": "71f4535b-2d80-48e3-a524-7646399ad8db"
      },
      "outputs": [
        {
          "output_type": "stream",
          "name": "stdout",
          "text": [
            "Epoch 1/100\n",
            "\u001b[1m3/3\u001b[0m \u001b[32m━━━━━━━━━━━━━━━━━━━━\u001b[0m\u001b[37m\u001b[0m \u001b[1m1s\u001b[0m 109ms/step - categorical_accuracy: 0.4944 - loss: 1.0852 - val_categorical_accuracy: 0.6389 - val_loss: 1.0204\n",
            "Epoch 2/100\n",
            "\u001b[1m3/3\u001b[0m \u001b[32m━━━━━━━━━━━━━━━━━━━━\u001b[0m\u001b[37m\u001b[0m \u001b[1m0s\u001b[0m 30ms/step - categorical_accuracy: 0.6791 - loss: 1.0006 - val_categorical_accuracy: 0.6389 - val_loss: 0.9725\n",
            "Epoch 3/100\n",
            "\u001b[1m3/3\u001b[0m \u001b[32m━━━━━━━━━━━━━━━━━━━━\u001b[0m\u001b[37m\u001b[0m \u001b[1m0s\u001b[0m 29ms/step - categorical_accuracy: 0.6557 - loss: 0.9530 - val_categorical_accuracy: 0.6389 - val_loss: 0.9325\n",
            "Epoch 4/100\n",
            "\u001b[1m3/3\u001b[0m \u001b[32m━━━━━━━━━━━━━━━━━━━━\u001b[0m\u001b[37m\u001b[0m \u001b[1m0s\u001b[0m 29ms/step - categorical_accuracy: 0.6908 - loss: 0.8983 - val_categorical_accuracy: 0.6389 - val_loss: 0.8952\n",
            "Epoch 5/100\n",
            "\u001b[1m3/3\u001b[0m \u001b[32m━━━━━━━━━━━━━━━━━━━━\u001b[0m\u001b[37m\u001b[0m \u001b[1m0s\u001b[0m 31ms/step - categorical_accuracy: 0.7143 - loss: 0.8556 - val_categorical_accuracy: 0.6389 - val_loss: 0.8635\n",
            "Epoch 6/100\n",
            "\u001b[1m3/3\u001b[0m \u001b[32m━━━━━━━━━━━━━━━━━━━━\u001b[0m\u001b[37m\u001b[0m \u001b[1m0s\u001b[0m 20ms/step - categorical_accuracy: 0.6869 - loss: 0.8325 - val_categorical_accuracy: 0.6389 - val_loss: 0.8338\n",
            "Epoch 7/100\n",
            "\u001b[1m3/3\u001b[0m \u001b[32m━━━━━━━━━━━━━━━━━━━━\u001b[0m\u001b[37m\u001b[0m \u001b[1m0s\u001b[0m 32ms/step - categorical_accuracy: 0.6401 - loss: 0.8142 - val_categorical_accuracy: 0.6389 - val_loss: 0.8076\n",
            "Epoch 8/100\n",
            "\u001b[1m3/3\u001b[0m \u001b[32m━━━━━━━━━━━━━━━━━━━━\u001b[0m\u001b[37m\u001b[0m \u001b[1m0s\u001b[0m 25ms/step - categorical_accuracy: 0.6908 - loss: 0.7638 - val_categorical_accuracy: 0.6389 - val_loss: 0.7792\n",
            "Epoch 9/100\n",
            "\u001b[1m3/3\u001b[0m \u001b[32m━━━━━━━━━━━━━━━━━━━━\u001b[0m\u001b[37m\u001b[0m \u001b[1m0s\u001b[0m 23ms/step - categorical_accuracy: 0.6479 - loss: 0.7534 - val_categorical_accuracy: 0.6389 - val_loss: 0.7556\n",
            "Epoch 10/100\n",
            "\u001b[1m3/3\u001b[0m \u001b[32m━━━━━━━━━━━━━━━━━━━━\u001b[0m\u001b[37m\u001b[0m \u001b[1m0s\u001b[0m 29ms/step - categorical_accuracy: 0.6830 - loss: 0.7111 - val_categorical_accuracy: 0.6389 - val_loss: 0.7309\n",
            "Epoch 11/100\n",
            "\u001b[1m3/3\u001b[0m \u001b[32m━━━━━━━━━━━━━━━━━━━━\u001b[0m\u001b[37m\u001b[0m \u001b[1m0s\u001b[0m 22ms/step - categorical_accuracy: 0.6635 - loss: 0.6913 - val_categorical_accuracy: 0.6389 - val_loss: 0.7056\n",
            "Epoch 12/100\n",
            "\u001b[1m3/3\u001b[0m \u001b[32m━━━━━━━━━━━━━━━━━━━━\u001b[0m\u001b[37m\u001b[0m \u001b[1m0s\u001b[0m 28ms/step - categorical_accuracy: 0.6830 - loss: 0.6644 - val_categorical_accuracy: 0.6389 - val_loss: 0.6823\n",
            "Epoch 13/100\n",
            "\u001b[1m3/3\u001b[0m \u001b[32m━━━━━━━━━━━━━━━━━━━━\u001b[0m\u001b[37m\u001b[0m \u001b[1m0s\u001b[0m 29ms/step - categorical_accuracy: 0.6830 - loss: 0.6403 - val_categorical_accuracy: 0.6667 - val_loss: 0.6611\n",
            "Epoch 14/100\n",
            "\u001b[1m3/3\u001b[0m \u001b[32m━━━━━━━━━━━━━━━━━━━━\u001b[0m\u001b[37m\u001b[0m \u001b[1m0s\u001b[0m 26ms/step - categorical_accuracy: 0.6949 - loss: 0.6235 - val_categorical_accuracy: 0.6667 - val_loss: 0.6421\n",
            "Epoch 15/100\n",
            "\u001b[1m3/3\u001b[0m \u001b[32m━━━━━━━━━━━━━━━━━━━━\u001b[0m\u001b[37m\u001b[0m \u001b[1m0s\u001b[0m 22ms/step - categorical_accuracy: 0.6890 - loss: 0.6022 - val_categorical_accuracy: 0.6667 - val_loss: 0.6231\n",
            "Epoch 16/100\n",
            "\u001b[1m3/3\u001b[0m \u001b[32m━━━━━━━━━━━━━━━━━━━━\u001b[0m\u001b[37m\u001b[0m \u001b[1m0s\u001b[0m 22ms/step - categorical_accuracy: 0.7046 - loss: 0.5723 - val_categorical_accuracy: 0.6667 - val_loss: 0.6047\n",
            "Epoch 17/100\n",
            "\u001b[1m3/3\u001b[0m \u001b[32m━━━━━━━━━━━━━━━━━━━━\u001b[0m\u001b[37m\u001b[0m \u001b[1m0s\u001b[0m 26ms/step - categorical_accuracy: 0.7225 - loss: 0.5668 - val_categorical_accuracy: 0.6667 - val_loss: 0.5884\n",
            "Epoch 18/100\n",
            "\u001b[1m3/3\u001b[0m \u001b[32m━━━━━━━━━━━━━━━━━━━━\u001b[0m\u001b[37m\u001b[0m \u001b[1m0s\u001b[0m 38ms/step - categorical_accuracy: 0.7106 - loss: 0.5293 - val_categorical_accuracy: 0.6667 - val_loss: 0.5714\n",
            "Epoch 19/100\n",
            "\u001b[1m3/3\u001b[0m \u001b[32m━━━━━━━━━━━━━━━━━━━━\u001b[0m\u001b[37m\u001b[0m \u001b[1m0s\u001b[0m 35ms/step - categorical_accuracy: 0.7284 - loss: 0.5350 - val_categorical_accuracy: 0.6667 - val_loss: 0.5583\n",
            "Epoch 20/100\n",
            "\u001b[1m3/3\u001b[0m \u001b[32m━━━━━━━━━━━━━━━━━━━━\u001b[0m\u001b[37m\u001b[0m \u001b[1m0s\u001b[0m 43ms/step - categorical_accuracy: 0.7087 - loss: 0.5192 - val_categorical_accuracy: 0.6667 - val_loss: 0.5454\n",
            "Epoch 21/100\n",
            "\u001b[1m3/3\u001b[0m \u001b[32m━━━━━━━━━━━━━━━━━━━━\u001b[0m\u001b[37m\u001b[0m \u001b[1m0s\u001b[0m 44ms/step - categorical_accuracy: 0.7539 - loss: 0.4864 - val_categorical_accuracy: 0.6667 - val_loss: 0.5334\n",
            "Epoch 22/100\n",
            "\u001b[1m3/3\u001b[0m \u001b[32m━━━━━━━━━━━━━━━━━━━━\u001b[0m\u001b[37m\u001b[0m \u001b[1m0s\u001b[0m 39ms/step - categorical_accuracy: 0.7225 - loss: 0.4913 - val_categorical_accuracy: 0.6667 - val_loss: 0.5197\n",
            "Epoch 23/100\n",
            "\u001b[1m3/3\u001b[0m \u001b[32m━━━━━━━━━━━━━━━━━━━━\u001b[0m\u001b[37m\u001b[0m \u001b[1m0s\u001b[0m 36ms/step - categorical_accuracy: 0.7364 - loss: 0.4817 - val_categorical_accuracy: 0.6667 - val_loss: 0.5079\n",
            "Epoch 24/100\n",
            "\u001b[1m3/3\u001b[0m \u001b[32m━━━━━━━━━━━━━━━━━━━━\u001b[0m\u001b[37m\u001b[0m \u001b[1m0s\u001b[0m 43ms/step - categorical_accuracy: 0.7757 - loss: 0.4593 - val_categorical_accuracy: 0.7778 - val_loss: 0.4939\n",
            "Epoch 25/100\n",
            "\u001b[1m3/3\u001b[0m \u001b[32m━━━━━━━━━━━━━━━━━━━━\u001b[0m\u001b[37m\u001b[0m \u001b[1m0s\u001b[0m 34ms/step - categorical_accuracy: 0.8581 - loss: 0.4466 - val_categorical_accuracy: 0.8889 - val_loss: 0.4822\n",
            "Epoch 26/100\n",
            "\u001b[1m3/3\u001b[0m \u001b[32m━━━━━━━━━━━━━━━━━━━━\u001b[0m\u001b[37m\u001b[0m \u001b[1m0s\u001b[0m 35ms/step - categorical_accuracy: 0.8679 - loss: 0.4297 - val_categorical_accuracy: 0.8889 - val_loss: 0.4721\n",
            "Epoch 27/100\n",
            "\u001b[1m3/3\u001b[0m \u001b[32m━━━━━━━━━━━━━━━━━━━━\u001b[0m\u001b[37m\u001b[0m \u001b[1m0s\u001b[0m 39ms/step - categorical_accuracy: 0.8917 - loss: 0.4344 - val_categorical_accuracy: 0.8056 - val_loss: 0.4638\n",
            "Epoch 28/100\n",
            "\u001b[1m3/3\u001b[0m \u001b[32m━━━━━━━━━━━━━━━━━━━━\u001b[0m\u001b[37m\u001b[0m \u001b[1m0s\u001b[0m 32ms/step - categorical_accuracy: 0.8408 - loss: 0.4345 - val_categorical_accuracy: 0.7778 - val_loss: 0.4572\n",
            "Epoch 29/100\n",
            "\u001b[1m3/3\u001b[0m \u001b[32m━━━━━━━━━━━━━━━━━━━━\u001b[0m\u001b[37m\u001b[0m \u001b[1m0s\u001b[0m 42ms/step - categorical_accuracy: 0.8484 - loss: 0.4140 - val_categorical_accuracy: 0.8889 - val_loss: 0.4425\n",
            "Epoch 30/100\n",
            "\u001b[1m3/3\u001b[0m \u001b[32m━━━━━━━━━━━━━━━━━━━━\u001b[0m\u001b[37m\u001b[0m \u001b[1m0s\u001b[0m 41ms/step - categorical_accuracy: 0.8798 - loss: 0.3896 - val_categorical_accuracy: 0.9444 - val_loss: 0.4325\n",
            "Epoch 31/100\n",
            "\u001b[1m3/3\u001b[0m \u001b[32m━━━━━━━━━━━━━━━━━━━━\u001b[0m\u001b[37m\u001b[0m \u001b[1m0s\u001b[0m 37ms/step - categorical_accuracy: 0.9053 - loss: 0.3984 - val_categorical_accuracy: 0.9444 - val_loss: 0.4244\n",
            "Epoch 32/100\n",
            "\u001b[1m3/3\u001b[0m \u001b[32m━━━━━━━━━━━━━━━━━━━━\u001b[0m\u001b[37m\u001b[0m \u001b[1m0s\u001b[0m 31ms/step - categorical_accuracy: 0.9055 - loss: 0.3994 - val_categorical_accuracy: 0.8889 - val_loss: 0.4178\n",
            "Epoch 33/100\n",
            "\u001b[1m3/3\u001b[0m \u001b[32m━━━━━━━━━━━━━━━━━━━━\u001b[0m\u001b[37m\u001b[0m \u001b[1m0s\u001b[0m 36ms/step - categorical_accuracy: 0.8956 - loss: 0.3659 - val_categorical_accuracy: 0.9167 - val_loss: 0.4084\n",
            "Epoch 34/100\n",
            "\u001b[1m3/3\u001b[0m \u001b[32m━━━━━━━━━━━━━━━━━━━━\u001b[0m\u001b[37m\u001b[0m \u001b[1m0s\u001b[0m 41ms/step - categorical_accuracy: 0.9016 - loss: 0.3802 - val_categorical_accuracy: 0.9167 - val_loss: 0.4011\n",
            "Epoch 35/100\n",
            "\u001b[1m3/3\u001b[0m \u001b[32m━━━━━━━━━━━━━━━━━━━━\u001b[0m\u001b[37m\u001b[0m \u001b[1m0s\u001b[0m 34ms/step - categorical_accuracy: 0.9232 - loss: 0.3489 - val_categorical_accuracy: 0.8889 - val_loss: 0.3950\n",
            "Epoch 36/100\n",
            "\u001b[1m3/3\u001b[0m \u001b[32m━━━━━━━━━━━━━━━━━━━━\u001b[0m\u001b[37m\u001b[0m \u001b[1m0s\u001b[0m 20ms/step - categorical_accuracy: 0.9213 - loss: 0.3687 - val_categorical_accuracy: 0.8889 - val_loss: 0.3922\n",
            "Epoch 37/100\n",
            "\u001b[1m3/3\u001b[0m \u001b[32m━━━━━━━━━━━━━━━━━━━━\u001b[0m\u001b[37m\u001b[0m \u001b[1m0s\u001b[0m 25ms/step - categorical_accuracy: 0.8996 - loss: 0.3564 - val_categorical_accuracy: 0.9167 - val_loss: 0.3806\n",
            "Epoch 38/100\n",
            "\u001b[1m3/3\u001b[0m \u001b[32m━━━━━━━━━━━━━━━━━━━━\u001b[0m\u001b[37m\u001b[0m \u001b[1m0s\u001b[0m 17ms/step - categorical_accuracy: 0.8860 - loss: 0.3676 - val_categorical_accuracy: 0.8889 - val_loss: 0.3792\n",
            "Epoch 39/100\n",
            "\u001b[1m3/3\u001b[0m \u001b[32m━━━━━━━━━━━━━━━━━━━━\u001b[0m\u001b[37m\u001b[0m \u001b[1m0s\u001b[0m 24ms/step - categorical_accuracy: 0.9211 - loss: 0.3211 - val_categorical_accuracy: 0.9444 - val_loss: 0.3660\n",
            "Epoch 40/100\n",
            "\u001b[1m3/3\u001b[0m \u001b[32m━━━━━━━━━━━━━━━━━━━━\u001b[0m\u001b[37m\u001b[0m \u001b[1m0s\u001b[0m 22ms/step - categorical_accuracy: 0.9055 - loss: 0.3569 - val_categorical_accuracy: 0.9444 - val_loss: 0.3599\n",
            "Epoch 41/100\n",
            "\u001b[1m3/3\u001b[0m \u001b[32m━━━━━━━━━━━━━━━━━━━━\u001b[0m\u001b[37m\u001b[0m \u001b[1m0s\u001b[0m 17ms/step - categorical_accuracy: 0.9371 - loss: 0.3436 - val_categorical_accuracy: 0.9167 - val_loss: 0.3565\n",
            "Epoch 42/100\n",
            "\u001b[1m3/3\u001b[0m \u001b[32m━━━━━━━━━━━━━━━━━━━━\u001b[0m\u001b[37m\u001b[0m \u001b[1m0s\u001b[0m 19ms/step - categorical_accuracy: 0.9133 - loss: 0.3246 - val_categorical_accuracy: 0.9444 - val_loss: 0.3467\n",
            "Epoch 43/100\n",
            "\u001b[1m3/3\u001b[0m \u001b[32m━━━━━━━━━━━━━━━━━━━━\u001b[0m\u001b[37m\u001b[0m \u001b[1m0s\u001b[0m 17ms/step - categorical_accuracy: 0.9250 - loss: 0.3063 - val_categorical_accuracy: 0.9444 - val_loss: 0.3400\n",
            "Epoch 44/100\n",
            "\u001b[1m3/3\u001b[0m \u001b[32m━━━━━━━━━━━━━━━━━━━━\u001b[0m\u001b[37m\u001b[0m \u001b[1m0s\u001b[0m 19ms/step - categorical_accuracy: 0.9330 - loss: 0.3223 - val_categorical_accuracy: 0.9167 - val_loss: 0.3357\n",
            "Epoch 45/100\n",
            "\u001b[1m3/3\u001b[0m \u001b[32m━━━━━━━━━━━━━━━━━━━━\u001b[0m\u001b[37m\u001b[0m \u001b[1m0s\u001b[0m 19ms/step - categorical_accuracy: 0.9193 - loss: 0.3010 - val_categorical_accuracy: 0.9444 - val_loss: 0.3285\n",
            "Epoch 46/100\n",
            "\u001b[1m3/3\u001b[0m \u001b[32m━━━━━━━━━━━━━━━━━━━━\u001b[0m\u001b[37m\u001b[0m \u001b[1m0s\u001b[0m 17ms/step - categorical_accuracy: 0.9565 - loss: 0.2890 - val_categorical_accuracy: 0.9444 - val_loss: 0.3223\n",
            "Epoch 47/100\n",
            "\u001b[1m3/3\u001b[0m \u001b[32m━━━━━━━━━━━━━━━━━━━━\u001b[0m\u001b[37m\u001b[0m \u001b[1m0s\u001b[0m 17ms/step - categorical_accuracy: 0.9172 - loss: 0.2850 - val_categorical_accuracy: 0.9722 - val_loss: 0.3161\n",
            "Epoch 48/100\n",
            "\u001b[1m3/3\u001b[0m \u001b[32m━━━━━━━━━━━━━━━━━━━━\u001b[0m\u001b[37m\u001b[0m \u001b[1m0s\u001b[0m 22ms/step - categorical_accuracy: 0.9743 - loss: 0.2995 - val_categorical_accuracy: 0.9167 - val_loss: 0.3154\n",
            "Epoch 49/100\n",
            "\u001b[1m3/3\u001b[0m \u001b[32m━━━━━━━━━━━━━━━━━━━━\u001b[0m\u001b[37m\u001b[0m \u001b[1m0s\u001b[0m 21ms/step - categorical_accuracy: 0.9154 - loss: 0.2942 - val_categorical_accuracy: 0.9444 - val_loss: 0.3059\n",
            "Epoch 50/100\n",
            "\u001b[1m3/3\u001b[0m \u001b[32m━━━━━━━━━━━━━━━━━━━━\u001b[0m\u001b[37m\u001b[0m \u001b[1m0s\u001b[0m 31ms/step - categorical_accuracy: 0.8977 - loss: 0.2881 - val_categorical_accuracy: 0.9722 - val_loss: 0.2993\n",
            "Epoch 51/100\n",
            "\u001b[1m3/3\u001b[0m \u001b[32m━━━━━━━━━━━━━━━━━━━━\u001b[0m\u001b[37m\u001b[0m \u001b[1m0s\u001b[0m 34ms/step - categorical_accuracy: 0.9388 - loss: 0.2744 - val_categorical_accuracy: 0.9722 - val_loss: 0.2961\n",
            "Epoch 52/100\n",
            "\u001b[1m3/3\u001b[0m \u001b[32m━━━━━━━━━━━━━━━━━━━━\u001b[0m\u001b[37m\u001b[0m \u001b[1m0s\u001b[0m 21ms/step - categorical_accuracy: 0.9488 - loss: 0.2931 - val_categorical_accuracy: 0.9722 - val_loss: 0.2894\n",
            "Epoch 53/100\n",
            "\u001b[1m3/3\u001b[0m \u001b[32m━━━━━━━━━━━━━━━━━━━━\u001b[0m\u001b[37m\u001b[0m \u001b[1m0s\u001b[0m 24ms/step - categorical_accuracy: 0.9429 - loss: 0.2695 - val_categorical_accuracy: 0.9722 - val_loss: 0.2846\n",
            "Epoch 54/100\n",
            "\u001b[1m3/3\u001b[0m \u001b[32m━━━━━━━━━━━━━━━━━━━━\u001b[0m\u001b[37m\u001b[0m \u001b[1m0s\u001b[0m 30ms/step - categorical_accuracy: 0.9408 - loss: 0.2655 - val_categorical_accuracy: 0.9722 - val_loss: 0.2796\n",
            "Epoch 55/100\n",
            "\u001b[1m3/3\u001b[0m \u001b[32m━━━━━━━━━━━━━━━━━━━━\u001b[0m\u001b[37m\u001b[0m \u001b[1m0s\u001b[0m 27ms/step - categorical_accuracy: 0.9449 - loss: 0.2800 - val_categorical_accuracy: 0.9722 - val_loss: 0.2755\n",
            "Epoch 56/100\n",
            "\u001b[1m3/3\u001b[0m \u001b[32m━━━━━━━━━━━━━━━━━━━━\u001b[0m\u001b[37m\u001b[0m \u001b[1m0s\u001b[0m 21ms/step - categorical_accuracy: 0.9351 - loss: 0.2737 - val_categorical_accuracy: 0.9722 - val_loss: 0.2724\n",
            "Epoch 57/100\n",
            "\u001b[1m3/3\u001b[0m \u001b[32m━━━━━━━━━━━━━━━━━━━━\u001b[0m\u001b[37m\u001b[0m \u001b[1m0s\u001b[0m 23ms/step - categorical_accuracy: 0.9449 - loss: 0.2409 - val_categorical_accuracy: 0.9722 - val_loss: 0.2653\n",
            "Epoch 58/100\n",
            "\u001b[1m3/3\u001b[0m \u001b[32m━━━━━━━━━━━━━━━━━━━━\u001b[0m\u001b[37m\u001b[0m \u001b[1m0s\u001b[0m 37ms/step - categorical_accuracy: 0.9213 - loss: 0.2477 - val_categorical_accuracy: 0.9722 - val_loss: 0.2620\n",
            "Epoch 59/100\n",
            "\u001b[1m3/3\u001b[0m \u001b[32m━━━━━━━━━━━━━━━━━━━━\u001b[0m\u001b[37m\u001b[0m \u001b[1m0s\u001b[0m 26ms/step - categorical_accuracy: 0.9036 - loss: 0.2556 - val_categorical_accuracy: 0.9722 - val_loss: 0.2579\n",
            "Epoch 60/100\n",
            "\u001b[1m3/3\u001b[0m \u001b[32m━━━━━━━━━━━━━━━━━━━━\u001b[0m\u001b[37m\u001b[0m \u001b[1m0s\u001b[0m 30ms/step - categorical_accuracy: 0.9330 - loss: 0.2287 - val_categorical_accuracy: 0.9722 - val_loss: 0.2523\n",
            "Epoch 61/100\n",
            "\u001b[1m3/3\u001b[0m \u001b[32m━━━━━━━━━━━━━━━━━━━━\u001b[0m\u001b[37m\u001b[0m \u001b[1m0s\u001b[0m 29ms/step - categorical_accuracy: 0.9193 - loss: 0.2408 - val_categorical_accuracy: 0.9722 - val_loss: 0.2494\n",
            "Epoch 62/100\n",
            "\u001b[1m3/3\u001b[0m \u001b[32m━━━━━━━━━━━━━━━━━━━━\u001b[0m\u001b[37m\u001b[0m \u001b[1m0s\u001b[0m 23ms/step - categorical_accuracy: 0.9488 - loss: 0.2386 - val_categorical_accuracy: 0.9722 - val_loss: 0.2451\n",
            "Epoch 63/100\n",
            "\u001b[1m3/3\u001b[0m \u001b[32m━━━━━━━━━━━━━━━━━━━━\u001b[0m\u001b[37m\u001b[0m \u001b[1m0s\u001b[0m 23ms/step - categorical_accuracy: 0.9528 - loss: 0.2663 - val_categorical_accuracy: 0.9722 - val_loss: 0.2406\n",
            "Epoch 64/100\n",
            "\u001b[1m3/3\u001b[0m \u001b[32m━━━━━━━━━━━━━━━━━━━━\u001b[0m\u001b[37m\u001b[0m \u001b[1m0s\u001b[0m 26ms/step - categorical_accuracy: 0.9488 - loss: 0.2415 - val_categorical_accuracy: 0.9722 - val_loss: 0.2396\n",
            "Epoch 65/100\n",
            "\u001b[1m3/3\u001b[0m \u001b[32m━━━━━━━━━━━━━━━━━━━━\u001b[0m\u001b[37m\u001b[0m \u001b[1m0s\u001b[0m 17ms/step - categorical_accuracy: 0.9211 - loss: 0.2119 - val_categorical_accuracy: 0.9722 - val_loss: 0.2364\n",
            "Epoch 66/100\n",
            "\u001b[1m3/3\u001b[0m \u001b[32m━━━━━━━━━━━━━━━━━━━━\u001b[0m\u001b[37m\u001b[0m \u001b[1m0s\u001b[0m 19ms/step - categorical_accuracy: 0.9213 - loss: 0.2464 - val_categorical_accuracy: 0.9722 - val_loss: 0.2365\n",
            "Epoch 67/100\n",
            "\u001b[1m3/3\u001b[0m \u001b[32m━━━━━━━━━━━━━━━━━━━━\u001b[0m\u001b[37m\u001b[0m \u001b[1m0s\u001b[0m 30ms/step - categorical_accuracy: 0.9232 - loss: 0.2202 - val_categorical_accuracy: 0.9722 - val_loss: 0.2290\n",
            "Epoch 68/100\n",
            "\u001b[1m3/3\u001b[0m \u001b[32m━━━━━━━━━━━━━━━━━━━━\u001b[0m\u001b[37m\u001b[0m \u001b[1m0s\u001b[0m 25ms/step - categorical_accuracy: 0.9449 - loss: 0.2211 - val_categorical_accuracy: 0.9722 - val_loss: 0.2270\n",
            "Epoch 69/100\n",
            "\u001b[1m3/3\u001b[0m \u001b[32m━━━━━━━━━━━━━━━━━━━━\u001b[0m\u001b[37m\u001b[0m \u001b[1m0s\u001b[0m 17ms/step - categorical_accuracy: 0.9390 - loss: 0.2297 - val_categorical_accuracy: 0.9722 - val_loss: 0.2217\n",
            "Epoch 70/100\n",
            "\u001b[1m3/3\u001b[0m \u001b[32m━━━━━━━━━━━━━━━━━━━━\u001b[0m\u001b[37m\u001b[0m \u001b[1m0s\u001b[0m 19ms/step - categorical_accuracy: 0.9193 - loss: 0.2325 - val_categorical_accuracy: 0.9722 - val_loss: 0.2184\n",
            "Epoch 71/100\n",
            "\u001b[1m3/3\u001b[0m \u001b[32m━━━━━━━━━━━━━━━━━━━━\u001b[0m\u001b[37m\u001b[0m \u001b[1m0s\u001b[0m 26ms/step - categorical_accuracy: 0.9449 - loss: 0.2067 - val_categorical_accuracy: 0.9722 - val_loss: 0.2147\n",
            "Epoch 72/100\n",
            "\u001b[1m3/3\u001b[0m \u001b[32m━━━━━━━━━━━━━━━━━━━━\u001b[0m\u001b[37m\u001b[0m \u001b[1m0s\u001b[0m 18ms/step - categorical_accuracy: 0.9684 - loss: 0.1902 - val_categorical_accuracy: 1.0000 - val_loss: 0.2122\n",
            "Epoch 73/100\n",
            "\u001b[1m3/3\u001b[0m \u001b[32m━━━━━━━━━━━━━━━━━━━━\u001b[0m\u001b[37m\u001b[0m \u001b[1m0s\u001b[0m 17ms/step - categorical_accuracy: 0.9291 - loss: 0.2087 - val_categorical_accuracy: 0.9722 - val_loss: 0.2091\n",
            "Epoch 74/100\n",
            "\u001b[1m3/3\u001b[0m \u001b[32m━━━━━━━━━━━━━━━━━━━━\u001b[0m\u001b[37m\u001b[0m \u001b[1m0s\u001b[0m 18ms/step - categorical_accuracy: 0.9585 - loss: 0.1881 - val_categorical_accuracy: 0.9722 - val_loss: 0.2058\n",
            "Epoch 75/100\n",
            "\u001b[1m3/3\u001b[0m \u001b[32m━━━━━━━━━━━━━━━━━━━━\u001b[0m\u001b[37m\u001b[0m \u001b[1m0s\u001b[0m 17ms/step - categorical_accuracy: 0.9273 - loss: 0.2132 - val_categorical_accuracy: 0.9722 - val_loss: 0.2051\n",
            "Epoch 76/100\n",
            "\u001b[1m3/3\u001b[0m \u001b[32m━━━━━━━━━━━━━━━━━━━━\u001b[0m\u001b[37m\u001b[0m \u001b[1m0s\u001b[0m 17ms/step - categorical_accuracy: 0.9390 - loss: 0.1959 - val_categorical_accuracy: 0.9722 - val_loss: 0.1983\n",
            "Epoch 77/100\n",
            "\u001b[1m3/3\u001b[0m \u001b[32m━━━━━━━━━━━━━━━━━━━━\u001b[0m\u001b[37m\u001b[0m \u001b[1m0s\u001b[0m 16ms/step - categorical_accuracy: 0.9488 - loss: 0.1949 - val_categorical_accuracy: 0.9444 - val_loss: 0.2020\n",
            "Epoch 78/100\n",
            "\u001b[1m3/3\u001b[0m \u001b[32m━━━━━━━━━━━━━━━━━━━━\u001b[0m\u001b[37m\u001b[0m \u001b[1m0s\u001b[0m 28ms/step - categorical_accuracy: 0.9567 - loss: 0.1831 - val_categorical_accuracy: 1.0000 - val_loss: 0.1941\n",
            "Epoch 79/100\n",
            "\u001b[1m3/3\u001b[0m \u001b[32m━━━━━━━━━━━━━━━━━━━━\u001b[0m\u001b[37m\u001b[0m \u001b[1m0s\u001b[0m 25ms/step - categorical_accuracy: 0.9528 - loss: 0.1883 - val_categorical_accuracy: 0.9722 - val_loss: 0.1921\n",
            "Epoch 80/100\n",
            "\u001b[1m3/3\u001b[0m \u001b[32m━━━━━━━━━━━━━━━━━━━━\u001b[0m\u001b[37m\u001b[0m \u001b[1m0s\u001b[0m 21ms/step - categorical_accuracy: 0.9468 - loss: 0.1736 - val_categorical_accuracy: 0.9722 - val_loss: 0.1892\n",
            "Epoch 81/100\n",
            "\u001b[1m3/3\u001b[0m \u001b[32m━━━━━━━━━━━━━━━━━━━━\u001b[0m\u001b[37m\u001b[0m \u001b[1m0s\u001b[0m 17ms/step - categorical_accuracy: 0.9665 - loss: 0.1915 - val_categorical_accuracy: 0.9722 - val_loss: 0.1868\n",
            "Epoch 82/100\n",
            "\u001b[1m3/3\u001b[0m \u001b[32m━━━━━━━━━━━━━━━━━━━━\u001b[0m\u001b[37m\u001b[0m \u001b[1m0s\u001b[0m 20ms/step - categorical_accuracy: 0.9507 - loss: 0.1743 - val_categorical_accuracy: 0.9722 - val_loss: 0.1832\n",
            "Epoch 83/100\n",
            "\u001b[1m3/3\u001b[0m \u001b[32m━━━━━━━━━━━━━━━━━━━━\u001b[0m\u001b[37m\u001b[0m \u001b[1m0s\u001b[0m 17ms/step - categorical_accuracy: 0.9606 - loss: 0.1647 - val_categorical_accuracy: 1.0000 - val_loss: 0.1791\n",
            "Epoch 84/100\n",
            "\u001b[1m3/3\u001b[0m \u001b[32m━━━━━━━━━━━━━━━━━━━━\u001b[0m\u001b[37m\u001b[0m \u001b[1m0s\u001b[0m 26ms/step - categorical_accuracy: 0.9507 - loss: 0.1816 - val_categorical_accuracy: 1.0000 - val_loss: 0.1767\n",
            "Epoch 85/100\n",
            "\u001b[1m3/3\u001b[0m \u001b[32m━━━━━━━━━━━━━━━━━━━━\u001b[0m\u001b[37m\u001b[0m \u001b[1m0s\u001b[0m 20ms/step - categorical_accuracy: 0.9410 - loss: 0.1851 - val_categorical_accuracy: 0.9722 - val_loss: 0.1734\n",
            "Epoch 86/100\n",
            "\u001b[1m3/3\u001b[0m \u001b[32m━━━━━━━━━━━━━━━━━━━━\u001b[0m\u001b[37m\u001b[0m \u001b[1m0s\u001b[0m 26ms/step - categorical_accuracy: 0.9665 - loss: 0.1748 - val_categorical_accuracy: 0.9722 - val_loss: 0.1753\n",
            "Epoch 87/100\n",
            "\u001b[1m3/3\u001b[0m \u001b[32m━━━━━━━━━━━━━━━━━━━━\u001b[0m\u001b[37m\u001b[0m \u001b[1m0s\u001b[0m 26ms/step - categorical_accuracy: 0.9036 - loss: 0.1768 - val_categorical_accuracy: 0.9722 - val_loss: 0.1741\n",
            "Epoch 88/100\n",
            "\u001b[1m3/3\u001b[0m \u001b[32m━━━━━━━━━━━━━━━━━━━━\u001b[0m\u001b[37m\u001b[0m \u001b[1m0s\u001b[0m 22ms/step - categorical_accuracy: 0.9408 - loss: 0.1615 - val_categorical_accuracy: 0.9444 - val_loss: 0.1742\n",
            "Epoch 89/100\n",
            "\u001b[1m3/3\u001b[0m \u001b[32m━━━━━━━━━━━━━━━━━━━━\u001b[0m\u001b[37m\u001b[0m \u001b[1m0s\u001b[0m 35ms/step - categorical_accuracy: 0.9645 - loss: 0.1690 - val_categorical_accuracy: 0.9722 - val_loss: 0.1642\n",
            "Epoch 90/100\n",
            "\u001b[1m3/3\u001b[0m \u001b[32m━━━━━━━━━━━━━━━━━━━━\u001b[0m\u001b[37m\u001b[0m \u001b[1m0s\u001b[0m 25ms/step - categorical_accuracy: 0.9546 - loss: 0.1456 - val_categorical_accuracy: 0.9444 - val_loss: 0.1671\n",
            "Epoch 91/100\n",
            "\u001b[1m3/3\u001b[0m \u001b[32m━━━━━━━━━━━━━━━━━━━━\u001b[0m\u001b[37m\u001b[0m \u001b[1m0s\u001b[0m 32ms/step - categorical_accuracy: 0.9429 - loss: 0.1600 - val_categorical_accuracy: 0.9722 - val_loss: 0.1608\n",
            "Epoch 92/100\n",
            "\u001b[1m3/3\u001b[0m \u001b[32m━━━━━━━━━━━━━━━━━━━━\u001b[0m\u001b[37m\u001b[0m \u001b[1m0s\u001b[0m 22ms/step - categorical_accuracy: 0.9528 - loss: 0.1523 - val_categorical_accuracy: 0.9722 - val_loss: 0.1604\n",
            "Epoch 93/100\n",
            "\u001b[1m3/3\u001b[0m \u001b[32m━━━━━━━━━━━━━━━━━━━━\u001b[0m\u001b[37m\u001b[0m \u001b[1m0s\u001b[0m 24ms/step - categorical_accuracy: 0.9449 - loss: 0.1706 - val_categorical_accuracy: 0.9722 - val_loss: 0.1579\n",
            "Epoch 94/100\n",
            "\u001b[1m3/3\u001b[0m \u001b[32m━━━━━━━━━━━━━━━━━━━━\u001b[0m\u001b[37m\u001b[0m \u001b[1m0s\u001b[0m 28ms/step - categorical_accuracy: 0.9606 - loss: 0.1506 - val_categorical_accuracy: 0.9722 - val_loss: 0.1566\n",
            "Epoch 95/100\n",
            "\u001b[1m3/3\u001b[0m \u001b[32m━━━━━━━━━━━━━━━━━━━━\u001b[0m\u001b[37m\u001b[0m \u001b[1m0s\u001b[0m 21ms/step - categorical_accuracy: 0.9528 - loss: 0.1475 - val_categorical_accuracy: 0.9722 - val_loss: 0.1532\n",
            "Epoch 96/100\n",
            "\u001b[1m3/3\u001b[0m \u001b[32m━━━━━━━━━━━━━━━━━━━━\u001b[0m\u001b[37m\u001b[0m \u001b[1m0s\u001b[0m 21ms/step - categorical_accuracy: 0.9548 - loss: 0.1665 - val_categorical_accuracy: 0.9722 - val_loss: 0.1517\n",
            "Epoch 97/100\n",
            "\u001b[1m3/3\u001b[0m \u001b[32m━━━━━━━━━━━━━━━━━━━━\u001b[0m\u001b[37m\u001b[0m \u001b[1m0s\u001b[0m 23ms/step - categorical_accuracy: 0.9369 - loss: 0.1565 - val_categorical_accuracy: 0.9722 - val_loss: 0.1504\n",
            "Epoch 98/100\n",
            "\u001b[1m3/3\u001b[0m \u001b[32m━━━━━━━━━━━━━━━━━━━━\u001b[0m\u001b[37m\u001b[0m \u001b[1m0s\u001b[0m 30ms/step - categorical_accuracy: 0.9606 - loss: 0.1439 - val_categorical_accuracy: 0.9722 - val_loss: 0.1518\n",
            "Epoch 99/100\n",
            "\u001b[1m3/3\u001b[0m \u001b[32m━━━━━━━━━━━━━━━━━━━━\u001b[0m\u001b[37m\u001b[0m \u001b[1m0s\u001b[0m 27ms/step - categorical_accuracy: 0.9684 - loss: 0.1423 - val_categorical_accuracy: 1.0000 - val_loss: 0.1475\n",
            "Epoch 100/100\n",
            "\u001b[1m3/3\u001b[0m \u001b[32m━━━━━━━━━━━━━━━━━━━━\u001b[0m\u001b[37m\u001b[0m \u001b[1m0s\u001b[0m 25ms/step - categorical_accuracy: 0.9213 - loss: 0.1520 - val_categorical_accuracy: 0.9722 - val_loss: 0.1442\n"
          ]
        }
      ],
      "source": [
        "epochs = 100\n",
        "historico = modelo.fit(x_treino,\n",
        "                       y_treino,\n",
        "                       epochs=epochs,\n",
        "                       validation_split=0.3)"
      ]
    },
    {
      "cell_type": "markdown",
      "metadata": {
        "id": "5YUF_A1qxWbn"
      },
      "source": [
        "**Interpretando a exibição:**\n",
        "\n",
        "Exemplo de exibição:\n",
        "```\n",
        "Epoch 100/100\n",
        "3/3 [==============================] - 0s 47ms/step - loss: 0.1451 - categorical_accuracy: 0.9524 - val_loss: 0.1456 - val_categorical_accuracy: 0.9722\n",
        "```\n",
        "- A época de treinamento: *`Epoch 100/100`*\n",
        "- Quantidade de **instâncias processadas**: *`3/3`*\n",
        "  * Aqui, temos a quantidade de amostras divididas pela número de [batch_size](https://www.deeplearningbook.com.br/o-efeito-do-batch-size-no-treinamento-de-redes-neurais-artificiais/). Normalmente a batch é definida com 32 no keras, temos 84 amostras (70% do conjunto de treino) no treinamento, resultando assim em aproximadamente 3 instâncias.\n",
        "- A barra de progresso: *`[==============================]`*\n",
        "- Tempo de treinamento de cada amostra: *`0s 13ms/step`*\n",
        "- Perda e acurária no conjunto de treinamento: *`loss: 0.1506 - categorical_accuracy: 0.9524`*\n",
        "- Perda e acurária no conjunto de validação: *`val_loss: 0.1494 - val_categorical_accuracy: 0.9722`*"
      ]
    },
    {
      "cell_type": "markdown",
      "metadata": {
        "id": "Xo_FaGu90YOt"
      },
      "source": [
        "### Avaliação"
      ]
    },
    {
      "cell_type": "markdown",
      "metadata": {
        "id": "dUAsjXu28U0T"
      },
      "source": [
        "#### Aprendizado\n",
        "\n",
        "Podemos avaliar o desempenho do nosso modelo durante o treinamento com os dados de `historico` através do método `history` e plotar o processo de aprendizado"
      ]
    },
    {
      "cell_type": "code",
      "execution_count": 33,
      "metadata": {
        "id": "8rqFkNgb4UXK",
        "colab": {
          "base_uri": "https://localhost:8080/"
        },
        "outputId": "4c9c5c6c-735c-41a6-ebd2-fd10016f0d1d"
      },
      "outputs": [
        {
          "output_type": "execute_result",
          "data": {
            "text/plain": [
              "{'categorical_accuracy': [0.5357142686843872,\n",
              "  0.6785714030265808,\n",
              "  0.6785714030265808,\n",
              "  0.6785714030265808,\n",
              "  0.6785714030265808,\n",
              "  0.6785714030265808,\n",
              "  0.6785714030265808,\n",
              "  0.6785714030265808,\n",
              "  0.6785714030265808,\n",
              "  0.6785714030265808,\n",
              "  0.6785714030265808,\n",
              "  0.6785714030265808,\n",
              "  0.6785714030265808,\n",
              "  0.7023809552192688,\n",
              "  0.6904761791229248,\n",
              "  0.6904761791229248,\n",
              "  0.726190447807312,\n",
              "  0.7023809552192688,\n",
              "  0.738095223903656,\n",
              "  0.7142857313156128,\n",
              "  0.75,\n",
              "  0.726190447807312,\n",
              "  0.761904776096344,\n",
              "  0.7857142686843872,\n",
              "  0.8333333134651184,\n",
              "  0.8452380895614624,\n",
              "  0.8928571343421936,\n",
              "  0.8690476417541504,\n",
              "  0.8452380895614624,\n",
              "  0.8690476417541504,\n",
              "  0.8809523582458496,\n",
              "  0.9047619104385376,\n",
              "  0.8928571343421936,\n",
              "  0.9047619104385376,\n",
              "  0.9166666865348816,\n",
              "  0.9285714030265808,\n",
              "  0.8928571343421936,\n",
              "  0.9047619104385376,\n",
              "  0.9047619104385376,\n",
              "  0.9047619104385376,\n",
              "  0.9523809552192688,\n",
              "  0.9047619104385376,\n",
              "  0.9047619104385376,\n",
              "  0.9285714030265808,\n",
              "  0.9166666865348816,\n",
              "  0.9285714030265808,\n",
              "  0.9047619104385376,\n",
              "  0.9642857313156128,\n",
              "  0.9166666865348816,\n",
              "  0.9047619104385376,\n",
              "  0.9166666865348816,\n",
              "  0.9523809552192688,\n",
              "  0.9404761791229248,\n",
              "  0.9285714030265808,\n",
              "  0.9523809552192688,\n",
              "  0.9404761791229248,\n",
              "  0.9523809552192688,\n",
              "  0.9285714030265808,\n",
              "  0.9166666865348816,\n",
              "  0.9285714030265808,\n",
              "  0.9166666865348816,\n",
              "  0.9523809552192688,\n",
              "  0.9523809552192688,\n",
              "  0.9523809552192688,\n",
              "  0.9047619104385376,\n",
              "  0.9285714030265808,\n",
              "  0.9166666865348816,\n",
              "  0.9523809552192688,\n",
              "  0.9404761791229248,\n",
              "  0.9166666865348816,\n",
              "  0.9523809552192688,\n",
              "  0.9523809552192688,\n",
              "  0.9285714030265808,\n",
              "  0.9404761791229248,\n",
              "  0.9404761791229248,\n",
              "  0.9404761791229248,\n",
              "  0.9523809552192688,\n",
              "  0.9523809552192688,\n",
              "  0.9523809552192688,\n",
              "  0.9404761791229248,\n",
              "  0.9642857313156128,\n",
              "  0.9404761791229248,\n",
              "  0.9523809552192688,\n",
              "  0.9404761791229248,\n",
              "  0.9523809552192688,\n",
              "  0.9642857313156128,\n",
              "  0.9166666865348816,\n",
              "  0.9285714030265808,\n",
              "  0.9523809552192688,\n",
              "  0.9404761791229248,\n",
              "  0.9404761791229248,\n",
              "  0.9523809552192688,\n",
              "  0.9523809552192688,\n",
              "  0.9523809552192688,\n",
              "  0.9523809552192688,\n",
              "  0.9642857313156128,\n",
              "  0.9285714030265808,\n",
              "  0.9523809552192688,\n",
              "  0.9523809552192688,\n",
              "  0.9285714030265808],\n",
              " 'loss': [1.0763320922851562,\n",
              "  0.9983631372451782,\n",
              "  0.9441984295845032,\n",
              "  0.8997949957847595,\n",
              "  0.8668503761291504,\n",
              "  0.8307113647460938,\n",
              "  0.7970152497291565,\n",
              "  0.7666551470756531,\n",
              "  0.7374394536018372,\n",
              "  0.7092185020446777,\n",
              "  0.683334469795227,\n",
              "  0.6587175130844116,\n",
              "  0.6372718811035156,\n",
              "  0.6143743395805359,\n",
              "  0.592811107635498,\n",
              "  0.5755419731140137,\n",
              "  0.5561232566833496,\n",
              "  0.5392274260520935,\n",
              "  0.5242391228675842,\n",
              "  0.5117355585098267,\n",
              "  0.49981409311294556,\n",
              "  0.4834921658039093,\n",
              "  0.4712636172771454,\n",
              "  0.46350643038749695,\n",
              "  0.45038408041000366,\n",
              "  0.4418086111545563,\n",
              "  0.4307045638561249,\n",
              "  0.4212821424007416,\n",
              "  0.41299739480018616,\n",
              "  0.404526025056839,\n",
              "  0.40006110072135925,\n",
              "  0.3889373540878296,\n",
              "  0.3837343752384186,\n",
              "  0.37288838624954224,\n",
              "  0.3702129125595093,\n",
              "  0.3657575845718384,\n",
              "  0.35476329922676086,\n",
              "  0.34909334778785706,\n",
              "  0.34530967473983765,\n",
              "  0.3351259231567383,\n",
              "  0.33042484521865845,\n",
              "  0.32418638467788696,\n",
              "  0.3261019289493561,\n",
              "  0.31263282895088196,\n",
              "  0.307252436876297,\n",
              "  0.3022002577781677,\n",
              "  0.2962532639503479,\n",
              "  0.2954068183898926,\n",
              "  0.2877001464366913,\n",
              "  0.2872565686702728,\n",
              "  0.2844943404197693,\n",
              "  0.2746412456035614,\n",
              "  0.2676689028739929,\n",
              "  0.2666094899177551,\n",
              "  0.2596423923969269,\n",
              "  0.2561494708061218,\n",
              "  0.2505149245262146,\n",
              "  0.2617435157299042,\n",
              "  0.2502919137477875,\n",
              "  0.2390289306640625,\n",
              "  0.2371816337108612,\n",
              "  0.23450668156147003,\n",
              "  0.2463679015636444,\n",
              "  0.23337291181087494,\n",
              "  0.22979824244976044,\n",
              "  0.22312042117118835,\n",
              "  0.21871526539325714,\n",
              "  0.21472413837909698,\n",
              "  0.21144816279411316,\n",
              "  0.21808992326259613,\n",
              "  0.20512421429157257,\n",
              "  0.2024521827697754,\n",
              "  0.2040836215019226,\n",
              "  0.20134232938289642,\n",
              "  0.19610530138015747,\n",
              "  0.1927553415298462,\n",
              "  0.1917857825756073,\n",
              "  0.1911562979221344,\n",
              "  0.18395306169986725,\n",
              "  0.18472234904766083,\n",
              "  0.18089620769023895,\n",
              "  0.1778925061225891,\n",
              "  0.17476952075958252,\n",
              "  0.1729908287525177,\n",
              "  0.17335288226604462,\n",
              "  0.16768452525138855,\n",
              "  0.17385928332805634,\n",
              "  0.17276641726493835,\n",
              "  0.17227742075920105,\n",
              "  0.16412314772605896,\n",
              "  0.1648414134979248,\n",
              "  0.15811191499233246,\n",
              "  0.15675562620162964,\n",
              "  0.16053754091262817,\n",
              "  0.15445458889007568,\n",
              "  0.1530822217464447,\n",
              "  0.15761134028434753,\n",
              "  0.14906851947307587,\n",
              "  0.15785786509513855,\n",
              "  0.14902837574481964],\n",
              " 'val_categorical_accuracy': [0.6388888955116272,\n",
              "  0.6388888955116272,\n",
              "  0.6388888955116272,\n",
              "  0.6388888955116272,\n",
              "  0.6388888955116272,\n",
              "  0.6388888955116272,\n",
              "  0.6388888955116272,\n",
              "  0.6388888955116272,\n",
              "  0.6388888955116272,\n",
              "  0.6388888955116272,\n",
              "  0.6388888955116272,\n",
              "  0.6388888955116272,\n",
              "  0.6666666865348816,\n",
              "  0.6666666865348816,\n",
              "  0.6666666865348816,\n",
              "  0.6666666865348816,\n",
              "  0.6666666865348816,\n",
              "  0.6666666865348816,\n",
              "  0.6666666865348816,\n",
              "  0.6666666865348816,\n",
              "  0.6666666865348816,\n",
              "  0.6666666865348816,\n",
              "  0.6666666865348816,\n",
              "  0.7777777910232544,\n",
              "  0.8888888955116272,\n",
              "  0.8888888955116272,\n",
              "  0.8055555820465088,\n",
              "  0.7777777910232544,\n",
              "  0.8888888955116272,\n",
              "  0.9444444179534912,\n",
              "  0.9444444179534912,\n",
              "  0.8888888955116272,\n",
              "  0.9166666865348816,\n",
              "  0.9166666865348816,\n",
              "  0.8888888955116272,\n",
              "  0.8888888955116272,\n",
              "  0.9166666865348816,\n",
              "  0.8888888955116272,\n",
              "  0.9444444179534912,\n",
              "  0.9444444179534912,\n",
              "  0.9166666865348816,\n",
              "  0.9444444179534912,\n",
              "  0.9444444179534912,\n",
              "  0.9166666865348816,\n",
              "  0.9444444179534912,\n",
              "  0.9444444179534912,\n",
              "  0.9722222089767456,\n",
              "  0.9166666865348816,\n",
              "  0.9444444179534912,\n",
              "  0.9722222089767456,\n",
              "  0.9722222089767456,\n",
              "  0.9722222089767456,\n",
              "  0.9722222089767456,\n",
              "  0.9722222089767456,\n",
              "  0.9722222089767456,\n",
              "  0.9722222089767456,\n",
              "  0.9722222089767456,\n",
              "  0.9722222089767456,\n",
              "  0.9722222089767456,\n",
              "  0.9722222089767456,\n",
              "  0.9722222089767456,\n",
              "  0.9722222089767456,\n",
              "  0.9722222089767456,\n",
              "  0.9722222089767456,\n",
              "  0.9722222089767456,\n",
              "  0.9722222089767456,\n",
              "  0.9722222089767456,\n",
              "  0.9722222089767456,\n",
              "  0.9722222089767456,\n",
              "  0.9722222089767456,\n",
              "  0.9722222089767456,\n",
              "  1.0,\n",
              "  0.9722222089767456,\n",
              "  0.9722222089767456,\n",
              "  0.9722222089767456,\n",
              "  0.9722222089767456,\n",
              "  0.9444444179534912,\n",
              "  1.0,\n",
              "  0.9722222089767456,\n",
              "  0.9722222089767456,\n",
              "  0.9722222089767456,\n",
              "  0.9722222089767456,\n",
              "  1.0,\n",
              "  1.0,\n",
              "  0.9722222089767456,\n",
              "  0.9722222089767456,\n",
              "  0.9722222089767456,\n",
              "  0.9444444179534912,\n",
              "  0.9722222089767456,\n",
              "  0.9444444179534912,\n",
              "  0.9722222089767456,\n",
              "  0.9722222089767456,\n",
              "  0.9722222089767456,\n",
              "  0.9722222089767456,\n",
              "  0.9722222089767456,\n",
              "  0.9722222089767456,\n",
              "  0.9722222089767456,\n",
              "  0.9722222089767456,\n",
              "  1.0,\n",
              "  0.9722222089767456],\n",
              " 'val_loss': [1.0204498767852783,\n",
              "  0.9724694490432739,\n",
              "  0.9324622750282288,\n",
              "  0.8951531648635864,\n",
              "  0.8635185956954956,\n",
              "  0.8338359594345093,\n",
              "  0.8076062202453613,\n",
              "  0.7792177200317383,\n",
              "  0.7555655241012573,\n",
              "  0.730912446975708,\n",
              "  0.7055692672729492,\n",
              "  0.6823060512542725,\n",
              "  0.6611215472221375,\n",
              "  0.6420637965202332,\n",
              "  0.6231448650360107,\n",
              "  0.6047289967536926,\n",
              "  0.5883527994155884,\n",
              "  0.5713630318641663,\n",
              "  0.5583045482635498,\n",
              "  0.5453546047210693,\n",
              "  0.5334117412567139,\n",
              "  0.519720196723938,\n",
              "  0.5079338550567627,\n",
              "  0.4939476549625397,\n",
              "  0.48222869634628296,\n",
              "  0.4720907211303711,\n",
              "  0.4638068974018097,\n",
              "  0.4571877121925354,\n",
              "  0.4425167441368103,\n",
              "  0.43254217505455017,\n",
              "  0.42436689138412476,\n",
              "  0.4178221821784973,\n",
              "  0.4084385931491852,\n",
              "  0.4010947048664093,\n",
              "  0.395004540681839,\n",
              "  0.3921858072280884,\n",
              "  0.3806391954421997,\n",
              "  0.3792439103126526,\n",
              "  0.36599093675613403,\n",
              "  0.3598691523075104,\n",
              "  0.35649216175079346,\n",
              "  0.3467130661010742,\n",
              "  0.3399859368801117,\n",
              "  0.33569324016571045,\n",
              "  0.328454852104187,\n",
              "  0.3223496675491333,\n",
              "  0.31612062454223633,\n",
              "  0.3154095411300659,\n",
              "  0.3058798313140869,\n",
              "  0.2992645800113678,\n",
              "  0.296073853969574,\n",
              "  0.28942543268203735,\n",
              "  0.28464749455451965,\n",
              "  0.2795903980731964,\n",
              "  0.27545714378356934,\n",
              "  0.2724255919456482,\n",
              "  0.26532113552093506,\n",
              "  0.2620033621788025,\n",
              "  0.2579325735569,\n",
              "  0.25234201550483704,\n",
              "  0.24935749173164368,\n",
              "  0.24514031410217285,\n",
              "  0.24055735766887665,\n",
              "  0.23961901664733887,\n",
              "  0.236440047621727,\n",
              "  0.2364799678325653,\n",
              "  0.22904954850673676,\n",
              "  0.2269580364227295,\n",
              "  0.2217492312192917,\n",
              "  0.21842584013938904,\n",
              "  0.21469640731811523,\n",
              "  0.21223333477973938,\n",
              "  0.20909343659877777,\n",
              "  0.20582668483257294,\n",
              "  0.20508559048175812,\n",
              "  0.19829827547073364,\n",
              "  0.20204488933086395,\n",
              "  0.19410155713558197,\n",
              "  0.1921028047800064,\n",
              "  0.18916819989681244,\n",
              "  0.1868266463279724,\n",
              "  0.18317298591136932,\n",
              "  0.17905743420124054,\n",
              "  0.17673920094966888,\n",
              "  0.17336405813694,\n",
              "  0.1753118634223938,\n",
              "  0.17407293617725372,\n",
              "  0.1741505116224289,\n",
              "  0.164187490940094,\n",
              "  0.16708143055438995,\n",
              "  0.16079071164131165,\n",
              "  0.16040481626987457,\n",
              "  0.15792855620384216,\n",
              "  0.15661349892616272,\n",
              "  0.1532270312309265,\n",
              "  0.1517052799463272,\n",
              "  0.15044717490673065,\n",
              "  0.15175385773181915,\n",
              "  0.1475214660167694,\n",
              "  0.14415878057479858]}"
            ]
          },
          "metadata": {},
          "execution_count": 33
        }
      ],
      "source": [
        "historico.history"
      ]
    },
    {
      "cell_type": "code",
      "execution_count": 34,
      "metadata": {
        "id": "EsYCNuAp4SuS",
        "colab": {
          "base_uri": "https://localhost:8080/",
          "height": 430
        },
        "outputId": "c6545c7f-932c-4cf0-f767-af478b30d971"
      },
      "outputs": [
        {
          "output_type": "display_data",
          "data": {
            "text/plain": [
              "<Figure size 640x480 with 1 Axes>"
            ],
            "image/png": "[encoded data removed]"
          },
          "metadata": {}
        }
      ],
      "source": [
        "import pandas as pd\n",
        "\n",
        "pd.DataFrame(historico.history).plot()\n",
        "plt.grid()\n",
        "plt.show()"
      ]
    },
    {
      "cell_type": "markdown",
      "metadata": {
        "id": "nTSMv08X3own"
      },
      "source": [
        "Para observar mais de perto o aprendizado do modelo podemos plotar curvas individuais e perceber como no aprendizado, ambos os conjuntos obtiveram resultados similares. Isso nos garante que não ocorreu sobreajuste no treinamento.\n",
        "\n",
        "A constancia das curvas é diferente pois os valores de erro  da validação é calculada por época e para o treinamento é feito uma média dos valores de erro durante as iterações de cada época."
      ]
    },
    {
      "cell_type": "code",
      "execution_count": 36,
      "metadata": {
        "id": "lVRjbAhb3576",
        "colab": {
          "base_uri": "https://localhost:8080/",
          "height": 495
        },
        "outputId": "66205238-ac23-48c6-bea7-9c06ffed7dfd"
      },
      "outputs": [
        {
          "output_type": "display_data",
          "data": {
            "text/plain": [
              "<Figure size 1400x500 with 2 Axes>"
            ],
            "image/png": "[encoded data removed]"
          },
          "metadata": {}
        }
      ],
      "source": [
        "fig, ax = plt.subplots(1, 2, figsize=(14, 5))\n",
        "ax[0].plot(historico.history['loss'], color='#111487', linewidth=3, label=\"Perda de treinamento\")\n",
        "ax[0].plot(historico.history['val_loss'], color='#EFA316', linewidth=3, label=\"Perda da validação\")\n",
        "legend = ax[0].legend(loc='best', shadow=True)\n",
        "\n",
        "ax[1].plot(historico.history['categorical_accuracy'], color='#111487', linewidth=3, label=\"Acurácia de treinamento\")\n",
        "ax[1].plot(historico.history['val_categorical_accuracy'], color='#EFA316', linewidth=3, label=\"Acurácia de validação\")\n",
        "legend = ax[1].legend(loc='best', shadow=True)\n",
        "\n",
        "plt.suptitle('Desempenho do treinamento', fontsize=18)\n",
        "plt.show()\n"
      ]
    },
    {
      "cell_type": "markdown",
      "metadata": {
        "id": "i4_zjfM_Lo2Z"
      },
      "source": [
        "#### Teste\n",
        "\n",
        "Podemos testar o modelo e verificar seu resultado final através do método [`evaluate`](https://keras.io/api/models/model_training_apis/#:~:text=%5Bsource%5D-,evaluate%20method,-Model.evaluate) que nos mostra a perda e acurácia obtida no conjunto de teste."
      ]
    },
    {
      "cell_type": "code",
      "execution_count": 37,
      "metadata": {
        "id": "P0sL5Gzz3xVC",
        "colab": {
          "base_uri": "https://localhost:8080/"
        },
        "outputId": "f1d39478-c7bc-4443-9127-a9b5d671632f"
      },
      "outputs": [
        {
          "output_type": "stream",
          "name": "stdout",
          "text": [
            "\u001b[1m1/1\u001b[0m \u001b[32m━━━━━━━━━━━━━━━━━━━━\u001b[0m\u001b[37m\u001b[0m \u001b[1m0s\u001b[0m 65ms/step - categorical_accuracy: 0.9667 - loss: 0.1557\n"
          ]
        },
        {
          "output_type": "execute_result",
          "data": {
            "text/plain": [
              "[0.15565252304077148, 0.9666666388511658]"
            ]
          },
          "metadata": {},
          "execution_count": 37
        }
      ],
      "source": [
        "modelo.evaluate(x_teste, y_teste)"
      ]
    },
    {
      "cell_type": "markdown",
      "metadata": {
        "id": "S1c0zg0q9L7m"
      },
      "source": [
        "O método [`predict`](https://keras.io/api/models/model_training_apis/#:~:text=%5Bsource%5D-,predict%20method,-Model.predict) gera a predição do modelo para as entradas enviadas.\n",
        "\n",
        "Faremos o teste: as entradas `[[0.61, 0.5, 0.69, 0.79]]` devem resultar em uma indicação de flor Virginica - `[0., 0., 1.]`"
      ]
    },
    {
      "cell_type": "code",
      "execution_count": 41,
      "metadata": {
        "id": "Z--7p0UG3zn6",
        "colab": {
          "base_uri": "https://localhost:8080/"
        },
        "outputId": "54dad064-de33-4976-de23-444c2eabeca8"
      },
      "outputs": [
        {
          "output_type": "stream",
          "name": "stdout",
          "text": [
            "\u001b[1m1/1\u001b[0m \u001b[32m━━━━━━━━━━━━━━━━━━━━\u001b[0m\u001b[37m\u001b[0m \u001b[1m0s\u001b[0m 247ms/step\n",
            "[[5.7424892e-05 2.2216669e-01 7.7777582e-01]]\n"
          ]
        }
      ],
      "source": [
        "import numpy as np\n",
        "\n",
        "# Converte a lista para um array numpy\n",
        "input_data = np.array([[0.61, 0.5, 0.69, 0.79]])\n",
        "\n",
        "# Faz a previsão\n",
        "resultado = modelo.predict(input_data)\n",
        "print(resultado)"
      ]
    },
    {
      "cell_type": "code",
      "source": [],
      "metadata": {
        "id": "-MpLYqP1DfTS"
      },
      "execution_count": null,
      "outputs": []
    }
  ],
  "metadata": {
    "colab": {
      "provenance": [],
      "toc_visible": true,
      "include_colab_link": true
    },
    "kernelspec": {
      "display_name": "Python 3.8.8 ('base')",
      "language": "python",
      "name": "python3"
    },
    "language_info": {
      "name": "python",
      "version": "3.8.8"
    },
    "vscode": {
      "interpreter": {
        "hash": "fea9c88495d1f50c34d2e3148c86f8e68579aa6a67b316dc78ccb8fbc7a6d96e"
      }
    }
  },
  "nbformat": 4,
  "nbformat_minor": 0
}